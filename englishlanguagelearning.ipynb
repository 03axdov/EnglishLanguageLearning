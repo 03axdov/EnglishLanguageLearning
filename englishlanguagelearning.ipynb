{
 "cells": [
  {
   "cell_type": "code",
   "execution_count": 1,
   "id": "94e3c467",
   "metadata": {
    "_cell_guid": "b1076dfc-b9ad-4769-8c92-a6c4dae69d19",
    "_uuid": "8f2839f25d086af736a60e9eeb907d3b93b6e0e5",
    "execution": {
     "iopub.execute_input": "2022-10-06T16:20:41.286954Z",
     "iopub.status.busy": "2022-10-06T16:20:41.286322Z",
     "iopub.status.idle": "2022-10-06T16:20:48.821835Z",
     "shell.execute_reply": "2022-10-06T16:20:48.820493Z"
    },
    "papermill": {
     "duration": 7.548588,
     "end_time": "2022-10-06T16:20:48.825024",
     "exception": false,
     "start_time": "2022-10-06T16:20:41.276436",
     "status": "completed"
    },
    "tags": []
   },
   "outputs": [],
   "source": [
    "import os\n",
    "os.environ[\"CPP_TF_MIN_LOG_LEVEL\"] = \"3\"\n",
    "\n",
    "import tensorflow as tf\n",
    "from tensorflow.keras import layers\n",
    "import numpy as np\n",
    "import pandas as pd"
   ]
  },
  {
   "cell_type": "code",
   "execution_count": 2,
   "id": "415cf452",
   "metadata": {
    "execution": {
     "iopub.execute_input": "2022-10-06T16:20:48.841338Z",
     "iopub.status.busy": "2022-10-06T16:20:48.840605Z",
     "iopub.status.idle": "2022-10-06T16:20:48.846667Z",
     "shell.execute_reply": "2022-10-06T16:20:48.845293Z"
    },
    "papermill": {
     "duration": 0.016899,
     "end_time": "2022-10-06T16:20:48.849098",
     "exception": false,
     "start_time": "2022-10-06T16:20:48.832199",
     "status": "completed"
    },
    "tags": []
   },
   "outputs": [],
   "source": [
    "tf.random.set_seed(47)"
   ]
  },
  {
   "cell_type": "code",
   "execution_count": 3,
   "id": "59c6b2a2",
   "metadata": {
    "execution": {
     "iopub.execute_input": "2022-10-06T16:20:48.864806Z",
     "iopub.status.busy": "2022-10-06T16:20:48.864410Z",
     "iopub.status.idle": "2022-10-06T16:20:48.950849Z",
     "shell.execute_reply": "2022-10-06T16:20:48.949818Z"
    },
    "papermill": {
     "duration": 0.097925,
     "end_time": "2022-10-06T16:20:48.954130",
     "exception": false,
     "start_time": "2022-10-06T16:20:48.856205",
     "status": "completed"
    },
    "tags": []
   },
   "outputs": [
    {
     "name": "stderr",
     "output_type": "stream",
     "text": [
      "2022-10-06 16:20:48.909310: I tensorflow/core/common_runtime/process_util.cc:146] Creating new thread pool with default inter op setting: 2. Tune using inter_op_parallelism_threads for best performance.\n"
     ]
    }
   ],
   "source": [
    "metrics = [tf.keras.metrics.RootMeanSquaredError()]"
   ]
  },
  {
   "cell_type": "code",
   "execution_count": 4,
   "id": "50451ae5",
   "metadata": {
    "execution": {
     "iopub.execute_input": "2022-10-06T16:20:48.971540Z",
     "iopub.status.busy": "2022-10-06T16:20:48.970195Z",
     "iopub.status.idle": "2022-10-06T16:20:49.234281Z",
     "shell.execute_reply": "2022-10-06T16:20:49.233166Z"
    },
    "papermill": {
     "duration": 0.274856,
     "end_time": "2022-10-06T16:20:49.236885",
     "exception": false,
     "start_time": "2022-10-06T16:20:48.962029",
     "status": "completed"
    },
    "tags": []
   },
   "outputs": [],
   "source": [
    "train_ds = pd.read_csv(\"../input/feedback-prize-english-language-learning/train.csv\")\n",
    "test_ds = pd.read_csv(\"../input/feedback-prize-english-language-learning/test.csv\")"
   ]
  },
  {
   "cell_type": "code",
   "execution_count": 5,
   "id": "32486e55",
   "metadata": {
    "execution": {
     "iopub.execute_input": "2022-10-06T16:20:49.252375Z",
     "iopub.status.busy": "2022-10-06T16:20:49.251948Z",
     "iopub.status.idle": "2022-10-06T16:20:49.282222Z",
     "shell.execute_reply": "2022-10-06T16:20:49.280230Z"
    },
    "papermill": {
     "duration": 0.041272,
     "end_time": "2022-10-06T16:20:49.285096",
     "exception": false,
     "start_time": "2022-10-06T16:20:49.243824",
     "status": "completed"
    },
    "tags": []
   },
   "outputs": [
    {
     "name": "stdout",
     "output_type": "stream",
     "text": [
      "(3911, 8)\n"
     ]
    },
    {
     "data": {
      "text/html": [
       "<div>\n",
       "<style scoped>\n",
       "    .dataframe tbody tr th:only-of-type {\n",
       "        vertical-align: middle;\n",
       "    }\n",
       "\n",
       "    .dataframe tbody tr th {\n",
       "        vertical-align: top;\n",
       "    }\n",
       "\n",
       "    .dataframe thead th {\n",
       "        text-align: right;\n",
       "    }\n",
       "</style>\n",
       "<table border=\"1\" class=\"dataframe\">\n",
       "  <thead>\n",
       "    <tr style=\"text-align: right;\">\n",
       "      <th></th>\n",
       "      <th>text_id</th>\n",
       "      <th>full_text</th>\n",
       "      <th>cohesion</th>\n",
       "      <th>syntax</th>\n",
       "      <th>vocabulary</th>\n",
       "      <th>phraseology</th>\n",
       "      <th>grammar</th>\n",
       "      <th>conventions</th>\n",
       "    </tr>\n",
       "  </thead>\n",
       "  <tbody>\n",
       "    <tr>\n",
       "      <th>0</th>\n",
       "      <td>0016926B079C</td>\n",
       "      <td>I think that students would benefit from learn...</td>\n",
       "      <td>3.5</td>\n",
       "      <td>3.5</td>\n",
       "      <td>3.0</td>\n",
       "      <td>3.0</td>\n",
       "      <td>4.0</td>\n",
       "      <td>3.0</td>\n",
       "    </tr>\n",
       "    <tr>\n",
       "      <th>1</th>\n",
       "      <td>0022683E9EA5</td>\n",
       "      <td>When a problem is a change you have to let it ...</td>\n",
       "      <td>2.5</td>\n",
       "      <td>2.5</td>\n",
       "      <td>3.0</td>\n",
       "      <td>2.0</td>\n",
       "      <td>2.0</td>\n",
       "      <td>2.5</td>\n",
       "    </tr>\n",
       "    <tr>\n",
       "      <th>2</th>\n",
       "      <td>00299B378633</td>\n",
       "      <td>Dear, Principal\\n\\nIf u change the school poli...</td>\n",
       "      <td>3.0</td>\n",
       "      <td>3.5</td>\n",
       "      <td>3.0</td>\n",
       "      <td>3.0</td>\n",
       "      <td>3.0</td>\n",
       "      <td>2.5</td>\n",
       "    </tr>\n",
       "    <tr>\n",
       "      <th>3</th>\n",
       "      <td>003885A45F42</td>\n",
       "      <td>The best time in life is when you become yours...</td>\n",
       "      <td>4.5</td>\n",
       "      <td>4.5</td>\n",
       "      <td>4.5</td>\n",
       "      <td>4.5</td>\n",
       "      <td>4.0</td>\n",
       "      <td>5.0</td>\n",
       "    </tr>\n",
       "    <tr>\n",
       "      <th>4</th>\n",
       "      <td>0049B1DF5CCC</td>\n",
       "      <td>Small act of kindness can impact in other peop...</td>\n",
       "      <td>2.5</td>\n",
       "      <td>3.0</td>\n",
       "      <td>3.0</td>\n",
       "      <td>3.0</td>\n",
       "      <td>2.5</td>\n",
       "      <td>2.5</td>\n",
       "    </tr>\n",
       "  </tbody>\n",
       "</table>\n",
       "</div>"
      ],
      "text/plain": [
       "        text_id                                          full_text  cohesion  \\\n",
       "0  0016926B079C  I think that students would benefit from learn...       3.5   \n",
       "1  0022683E9EA5  When a problem is a change you have to let it ...       2.5   \n",
       "2  00299B378633  Dear, Principal\\n\\nIf u change the school poli...       3.0   \n",
       "3  003885A45F42  The best time in life is when you become yours...       4.5   \n",
       "4  0049B1DF5CCC  Small act of kindness can impact in other peop...       2.5   \n",
       "\n",
       "   syntax  vocabulary  phraseology  grammar  conventions  \n",
       "0     3.5         3.0          3.0      4.0          3.0  \n",
       "1     2.5         3.0          2.0      2.0          2.5  \n",
       "2     3.5         3.0          3.0      3.0          2.5  \n",
       "3     4.5         4.5          4.5      4.0          5.0  \n",
       "4     3.0         3.0          3.0      2.5          2.5  "
      ]
     },
     "execution_count": 5,
     "metadata": {},
     "output_type": "execute_result"
    }
   ],
   "source": [
    "print(train_ds.shape)\n",
    "train_ds.head()"
   ]
  },
  {
   "cell_type": "code",
   "execution_count": 6,
   "id": "83465b61",
   "metadata": {
    "execution": {
     "iopub.execute_input": "2022-10-06T16:20:49.301140Z",
     "iopub.status.busy": "2022-10-06T16:20:49.300694Z",
     "iopub.status.idle": "2022-10-06T16:20:49.313035Z",
     "shell.execute_reply": "2022-10-06T16:20:49.311699Z"
    },
    "papermill": {
     "duration": 0.023893,
     "end_time": "2022-10-06T16:20:49.316082",
     "exception": false,
     "start_time": "2022-10-06T16:20:49.292189",
     "status": "completed"
    },
    "tags": []
   },
   "outputs": [
    {
     "name": "stdout",
     "output_type": "stream",
     "text": [
      "(3, 2)\n"
     ]
    },
    {
     "data": {
      "text/html": [
       "<div>\n",
       "<style scoped>\n",
       "    .dataframe tbody tr th:only-of-type {\n",
       "        vertical-align: middle;\n",
       "    }\n",
       "\n",
       "    .dataframe tbody tr th {\n",
       "        vertical-align: top;\n",
       "    }\n",
       "\n",
       "    .dataframe thead th {\n",
       "        text-align: right;\n",
       "    }\n",
       "</style>\n",
       "<table border=\"1\" class=\"dataframe\">\n",
       "  <thead>\n",
       "    <tr style=\"text-align: right;\">\n",
       "      <th></th>\n",
       "      <th>text_id</th>\n",
       "      <th>full_text</th>\n",
       "    </tr>\n",
       "  </thead>\n",
       "  <tbody>\n",
       "    <tr>\n",
       "      <th>0</th>\n",
       "      <td>0000C359D63E</td>\n",
       "      <td>when a person has no experience on a job their...</td>\n",
       "    </tr>\n",
       "    <tr>\n",
       "      <th>1</th>\n",
       "      <td>000BAD50D026</td>\n",
       "      <td>Do you think students would benefit from being...</td>\n",
       "    </tr>\n",
       "    <tr>\n",
       "      <th>2</th>\n",
       "      <td>00367BB2546B</td>\n",
       "      <td>Thomas Jefferson once states that \"it is wonde...</td>\n",
       "    </tr>\n",
       "  </tbody>\n",
       "</table>\n",
       "</div>"
      ],
      "text/plain": [
       "        text_id                                          full_text\n",
       "0  0000C359D63E  when a person has no experience on a job their...\n",
       "1  000BAD50D026  Do you think students would benefit from being...\n",
       "2  00367BB2546B  Thomas Jefferson once states that \"it is wonde..."
      ]
     },
     "execution_count": 6,
     "metadata": {},
     "output_type": "execute_result"
    }
   ],
   "source": [
    "print(test_ds.shape)\n",
    "test_ds.head()"
   ]
  },
  {
   "cell_type": "code",
   "execution_count": 7,
   "id": "7a0c2991",
   "metadata": {
    "execution": {
     "iopub.execute_input": "2022-10-06T16:20:49.332858Z",
     "iopub.status.busy": "2022-10-06T16:20:49.332421Z",
     "iopub.status.idle": "2022-10-06T16:20:49.347437Z",
     "shell.execute_reply": "2022-10-06T16:20:49.346049Z"
    },
    "papermill": {
     "duration": 0.026481,
     "end_time": "2022-10-06T16:20:49.349991",
     "exception": false,
     "start_time": "2022-10-06T16:20:49.323510",
     "status": "completed"
    },
    "tags": []
   },
   "outputs": [],
   "source": [
    "train_features = train_ds.pop(\"full_text\")\n",
    "train_ds.pop(\"text_id\")\n",
    "train_labels = train_ds\n",
    "\n",
    "num_classes = train_labels.shape[-1]"
   ]
  },
  {
   "cell_type": "code",
   "execution_count": 8,
   "id": "13b7cf91",
   "metadata": {
    "execution": {
     "iopub.execute_input": "2022-10-06T16:20:49.367548Z",
     "iopub.status.busy": "2022-10-06T16:20:49.367186Z",
     "iopub.status.idle": "2022-10-06T16:20:49.375499Z",
     "shell.execute_reply": "2022-10-06T16:20:49.374145Z"
    },
    "papermill": {
     "duration": 0.019764,
     "end_time": "2022-10-06T16:20:49.378102",
     "exception": false,
     "start_time": "2022-10-06T16:20:49.358338",
     "status": "completed"
    },
    "tags": []
   },
   "outputs": [
    {
     "data": {
      "text/plain": [
       "0    I think that students would benefit from learn...\n",
       "1    When a problem is a change you have to let it ...\n",
       "2    Dear, Principal\\n\\nIf u change the school poli...\n",
       "3    The best time in life is when you become yours...\n",
       "4    Small act of kindness can impact in other peop...\n",
       "Name: full_text, dtype: object"
      ]
     },
     "execution_count": 8,
     "metadata": {},
     "output_type": "execute_result"
    }
   ],
   "source": [
    "train_features.head()"
   ]
  },
  {
   "cell_type": "code",
   "execution_count": 9,
   "id": "fe01f379",
   "metadata": {
    "execution": {
     "iopub.execute_input": "2022-10-06T16:20:49.395346Z",
     "iopub.status.busy": "2022-10-06T16:20:49.394949Z",
     "iopub.status.idle": "2022-10-06T16:20:49.411299Z",
     "shell.execute_reply": "2022-10-06T16:20:49.409981Z"
    },
    "papermill": {
     "duration": 0.028097,
     "end_time": "2022-10-06T16:20:49.413642",
     "exception": false,
     "start_time": "2022-10-06T16:20:49.385545",
     "status": "completed"
    },
    "tags": []
   },
   "outputs": [
    {
     "data": {
      "text/html": [
       "<div>\n",
       "<style scoped>\n",
       "    .dataframe tbody tr th:only-of-type {\n",
       "        vertical-align: middle;\n",
       "    }\n",
       "\n",
       "    .dataframe tbody tr th {\n",
       "        vertical-align: top;\n",
       "    }\n",
       "\n",
       "    .dataframe thead th {\n",
       "        text-align: right;\n",
       "    }\n",
       "</style>\n",
       "<table border=\"1\" class=\"dataframe\">\n",
       "  <thead>\n",
       "    <tr style=\"text-align: right;\">\n",
       "      <th></th>\n",
       "      <th>cohesion</th>\n",
       "      <th>syntax</th>\n",
       "      <th>vocabulary</th>\n",
       "      <th>phraseology</th>\n",
       "      <th>grammar</th>\n",
       "      <th>conventions</th>\n",
       "    </tr>\n",
       "  </thead>\n",
       "  <tbody>\n",
       "    <tr>\n",
       "      <th>0</th>\n",
       "      <td>3.5</td>\n",
       "      <td>3.5</td>\n",
       "      <td>3.0</td>\n",
       "      <td>3.0</td>\n",
       "      <td>4.0</td>\n",
       "      <td>3.0</td>\n",
       "    </tr>\n",
       "    <tr>\n",
       "      <th>1</th>\n",
       "      <td>2.5</td>\n",
       "      <td>2.5</td>\n",
       "      <td>3.0</td>\n",
       "      <td>2.0</td>\n",
       "      <td>2.0</td>\n",
       "      <td>2.5</td>\n",
       "    </tr>\n",
       "    <tr>\n",
       "      <th>2</th>\n",
       "      <td>3.0</td>\n",
       "      <td>3.5</td>\n",
       "      <td>3.0</td>\n",
       "      <td>3.0</td>\n",
       "      <td>3.0</td>\n",
       "      <td>2.5</td>\n",
       "    </tr>\n",
       "    <tr>\n",
       "      <th>3</th>\n",
       "      <td>4.5</td>\n",
       "      <td>4.5</td>\n",
       "      <td>4.5</td>\n",
       "      <td>4.5</td>\n",
       "      <td>4.0</td>\n",
       "      <td>5.0</td>\n",
       "    </tr>\n",
       "    <tr>\n",
       "      <th>4</th>\n",
       "      <td>2.5</td>\n",
       "      <td>3.0</td>\n",
       "      <td>3.0</td>\n",
       "      <td>3.0</td>\n",
       "      <td>2.5</td>\n",
       "      <td>2.5</td>\n",
       "    </tr>\n",
       "  </tbody>\n",
       "</table>\n",
       "</div>"
      ],
      "text/plain": [
       "   cohesion  syntax  vocabulary  phraseology  grammar  conventions\n",
       "0       3.5     3.5         3.0          3.0      4.0          3.0\n",
       "1       2.5     2.5         3.0          2.0      2.0          2.5\n",
       "2       3.0     3.5         3.0          3.0      3.0          2.5\n",
       "3       4.5     4.5         4.5          4.5      4.0          5.0\n",
       "4       2.5     3.0         3.0          3.0      2.5          2.5"
      ]
     },
     "execution_count": 9,
     "metadata": {},
     "output_type": "execute_result"
    }
   ],
   "source": [
    "train_labels.head()"
   ]
  },
  {
   "cell_type": "code",
   "execution_count": 10,
   "id": "3ca3249c",
   "metadata": {
    "execution": {
     "iopub.execute_input": "2022-10-06T16:20:49.431156Z",
     "iopub.status.busy": "2022-10-06T16:20:49.430731Z",
     "iopub.status.idle": "2022-10-06T16:20:49.467211Z",
     "shell.execute_reply": "2022-10-06T16:20:49.465953Z"
    },
    "papermill": {
     "duration": 0.048362,
     "end_time": "2022-10-06T16:20:49.469692",
     "exception": false,
     "start_time": "2022-10-06T16:20:49.421330",
     "status": "completed"
    },
    "tags": []
   },
   "outputs": [
    {
     "data": {
      "text/plain": [
       "<tf.Tensor: shape=(), dtype=int64, numpy=3911>"
      ]
     },
     "execution_count": 10,
     "metadata": {},
     "output_type": "execute_result"
    }
   ],
   "source": [
    "train_ds = tf.data.Dataset.from_tensor_slices((train_features, train_labels))\n",
    "\n",
    "tf.data.experimental.cardinality(train_ds)"
   ]
  },
  {
   "cell_type": "code",
   "execution_count": 11,
   "id": "c5d55b3b",
   "metadata": {
    "execution": {
     "iopub.execute_input": "2022-10-06T16:20:49.488144Z",
     "iopub.status.busy": "2022-10-06T16:20:49.487695Z",
     "iopub.status.idle": "2022-10-06T16:20:49.497665Z",
     "shell.execute_reply": "2022-10-06T16:20:49.496481Z"
    },
    "papermill": {
     "duration": 0.023368,
     "end_time": "2022-10-06T16:20:49.500885",
     "exception": false,
     "start_time": "2022-10-06T16:20:49.477517",
     "status": "completed"
    },
    "tags": []
   },
   "outputs": [],
   "source": [
    "train_ds = train_ds.cache().batch(32).prefetch(buffer_size=tf.data.AUTOTUNE)"
   ]
  },
  {
   "cell_type": "code",
   "execution_count": 12,
   "id": "b2838b9c",
   "metadata": {
    "execution": {
     "iopub.execute_input": "2022-10-06T16:20:49.518605Z",
     "iopub.status.busy": "2022-10-06T16:20:49.518188Z",
     "iopub.status.idle": "2022-10-06T16:20:49.525396Z",
     "shell.execute_reply": "2022-10-06T16:20:49.524537Z"
    },
    "papermill": {
     "duration": 0.018866,
     "end_time": "2022-10-06T16:20:49.527776",
     "exception": false,
     "start_time": "2022-10-06T16:20:49.508910",
     "status": "completed"
    },
    "tags": []
   },
   "outputs": [],
   "source": [
    "val_ds = train_ds.take(15)\n",
    "train_ds = train_ds.skip(15)"
   ]
  },
  {
   "cell_type": "code",
   "execution_count": 13,
   "id": "2b50396c",
   "metadata": {
    "execution": {
     "iopub.execute_input": "2022-10-06T16:20:49.545873Z",
     "iopub.status.busy": "2022-10-06T16:20:49.545386Z",
     "iopub.status.idle": "2022-10-06T16:20:49.623831Z",
     "shell.execute_reply": "2022-10-06T16:20:49.622660Z"
    },
    "papermill": {
     "duration": 0.090137,
     "end_time": "2022-10-06T16:20:49.626027",
     "exception": false,
     "start_time": "2022-10-06T16:20:49.535890",
     "status": "completed"
    },
    "tags": []
   },
   "outputs": [
    {
     "name": "stdout",
     "output_type": "stream",
     "text": [
      "Text: b'Students and Families should be left to decide if they want to get involved in extracurricular activities. Students should know what they want to do like get involved in more or less extracurricular activities. Teachers say students get stressed over more extracurricular activities. That is not true students do not get stressed over extracurricular activities. Students should have their own choice if they wish to take ore extracurricular work.\\n\\nStudents and Families should be allowed to pick if they want ht o continue extracurricular activities or not, and if it is too much for the student to handle in one day. because the overload of activities they do. I believe the school should not get involved at all and let the students have responsibilities to handle their situation. For example a student will be able to decide whether or not they wish to take an extracurricular activities event.\\n\\nStudents have reasons on why they should be able to settle it with their families. One of those reasons is that the parents can pick whats a safe and valuable extracurricular activity for their child. Another reason would be is that a Student would prefer a parent to be their instead of a teacher.'\n",
      "Labels: [3.  3.  3.  3.  4.  3.5]\n"
     ]
    },
    {
     "name": "stderr",
     "output_type": "stream",
     "text": [
      "2022-10-06 16:20:49.614705: W tensorflow/core/kernels/data/cache_dataset_ops.cc:768] The calling iterator did not fully read the dataset being cached. In order to avoid unexpected truncation of the dataset, the partially cached contents of the dataset  will be discarded. This can happen if you have an input pipeline similar to `dataset.cache().take(k).repeat()`. You should use `dataset.take(k).cache().repeat()` instead.\n"
     ]
    }
   ],
   "source": [
    "for text_batch, label_batch in train_ds.take(1):\n",
    "  print(f\"Text: {text_batch[0]}\")\n",
    "  print(f\"Labels: {label_batch[0]}\")"
   ]
  },
  {
   "cell_type": "code",
   "execution_count": 14,
   "id": "a073e264",
   "metadata": {
    "execution": {
     "iopub.execute_input": "2022-10-06T16:20:49.644364Z",
     "iopub.status.busy": "2022-10-06T16:20:49.643125Z",
     "iopub.status.idle": "2022-10-06T16:20:49.649341Z",
     "shell.execute_reply": "2022-10-06T16:20:49.648415Z"
    },
    "papermill": {
     "duration": 0.017722,
     "end_time": "2022-10-06T16:20:49.651641",
     "exception": false,
     "start_time": "2022-10-06T16:20:49.633919",
     "status": "completed"
    },
    "tags": []
   },
   "outputs": [],
   "source": [
    "import re\n",
    "import string\n",
    "\n",
    "def custom_standardization(input_data):\n",
    "  lowercase = tf.strings.lower(input_data)\n",
    "  stripped = tf.strings.regex_replace(lowercase, '\\n', ' ')\n",
    "  return tf.strings.regex_replace(stripped, f\"[{re.escape(string.punctuation)}]\", '')"
   ]
  },
  {
   "cell_type": "code",
   "execution_count": 15,
   "id": "25846eb5",
   "metadata": {
    "execution": {
     "iopub.execute_input": "2022-10-06T16:20:49.669861Z",
     "iopub.status.busy": "2022-10-06T16:20:49.669186Z",
     "iopub.status.idle": "2022-10-06T16:20:49.691627Z",
     "shell.execute_reply": "2022-10-06T16:20:49.690247Z"
    },
    "papermill": {
     "duration": 0.03496,
     "end_time": "2022-10-06T16:20:49.694564",
     "exception": false,
     "start_time": "2022-10-06T16:20:49.659604",
     "status": "completed"
    },
    "tags": []
   },
   "outputs": [],
   "source": [
    "vocab_size = 20000  # Should be relatively high as there are misspellings\n",
    "sequence_length = 200\n",
    "\n",
    "vectorize_layer = tf.keras.layers.TextVectorization(\n",
    "    standardize=custom_standardization,\n",
    "    max_tokens=vocab_size,\n",
    "    output_sequence_length=200\n",
    ")"
   ]
  },
  {
   "cell_type": "code",
   "execution_count": 16,
   "id": "b2d7d2b5",
   "metadata": {
    "execution": {
     "iopub.execute_input": "2022-10-06T16:20:49.712868Z",
     "iopub.status.busy": "2022-10-06T16:20:49.712194Z",
     "iopub.status.idle": "2022-10-06T16:20:49.935900Z",
     "shell.execute_reply": "2022-10-06T16:20:49.934623Z"
    },
    "papermill": {
     "duration": 0.236252,
     "end_time": "2022-10-06T16:20:49.938867",
     "exception": false,
     "start_time": "2022-10-06T16:20:49.702615",
     "status": "completed"
    },
    "tags": []
   },
   "outputs": [],
   "source": [
    "text_ds = train_ds.map(lambda x, y: x)"
   ]
  },
  {
   "cell_type": "code",
   "execution_count": 17,
   "id": "373cb442",
   "metadata": {
    "execution": {
     "iopub.execute_input": "2022-10-06T16:20:49.956774Z",
     "iopub.status.busy": "2022-10-06T16:20:49.956355Z",
     "iopub.status.idle": "2022-10-06T16:20:50.675894Z",
     "shell.execute_reply": "2022-10-06T16:20:50.674544Z"
    },
    "papermill": {
     "duration": 0.731627,
     "end_time": "2022-10-06T16:20:50.678566",
     "exception": false,
     "start_time": "2022-10-06T16:20:49.946939",
     "status": "completed"
    },
    "tags": []
   },
   "outputs": [
    {
     "name": "stderr",
     "output_type": "stream",
     "text": [
      "2022-10-06 16:20:49.987579: I tensorflow/compiler/mlir/mlir_graph_optimization_pass.cc:185] None of the MLIR Optimization Passes are enabled (registered 2)\n"
     ]
    },
    {
     "data": {
      "text/plain": [
       "['',\n",
       " '[UNK]',\n",
       " 'to',\n",
       " 'the',\n",
       " 'and',\n",
       " 'you',\n",
       " 'a',\n",
       " 'that',\n",
       " 'in',\n",
       " 'they',\n",
       " 'is',\n",
       " 'i',\n",
       " 'of',\n",
       " 'have',\n",
       " 'for',\n",
       " 'be',\n",
       " 'it',\n",
       " 'can',\n",
       " 'because',\n",
       " 'people']"
      ]
     },
     "execution_count": 17,
     "metadata": {},
     "output_type": "execute_result"
    }
   ],
   "source": [
    "vectorize_layer.adapt(text_ds)\n",
    "vectorize_layer.get_vocabulary()[:20]"
   ]
  },
  {
   "cell_type": "code",
   "execution_count": 18,
   "id": "c8ca5141",
   "metadata": {
    "execution": {
     "iopub.execute_input": "2022-10-06T16:20:50.697321Z",
     "iopub.status.busy": "2022-10-06T16:20:50.696861Z",
     "iopub.status.idle": "2022-10-06T16:20:50.703987Z",
     "shell.execute_reply": "2022-10-06T16:20:50.702579Z"
    },
    "papermill": {
     "duration": 0.019503,
     "end_time": "2022-10-06T16:20:50.706598",
     "exception": false,
     "start_time": "2022-10-06T16:20:50.687095",
     "status": "completed"
    },
    "tags": []
   },
   "outputs": [],
   "source": [
    "embedding_dim = 32\n",
    "\n",
    "def get_model():\n",
    "  model = tf.keras.Sequential([\n",
    "      vectorize_layer,\n",
    "      layers.Embedding(vocab_size, embedding_dim, name=\"Embedding\"),\n",
    "      layers.GlobalAveragePooling1D(),\n",
    "      layers.Dense(32, activation=\"relu\"),\n",
    "      layers.Dense(num_classes)\n",
    "  ])\n",
    "\n",
    "  return model"
   ]
  },
  {
   "cell_type": "code",
   "execution_count": 19,
   "id": "e7a88167",
   "metadata": {
    "execution": {
     "iopub.execute_input": "2022-10-06T16:20:50.724925Z",
     "iopub.status.busy": "2022-10-06T16:20:50.724520Z",
     "iopub.status.idle": "2022-10-06T16:20:50.810305Z",
     "shell.execute_reply": "2022-10-06T16:20:50.809133Z"
    },
    "papermill": {
     "duration": 0.098351,
     "end_time": "2022-10-06T16:20:50.813218",
     "exception": false,
     "start_time": "2022-10-06T16:20:50.714867",
     "status": "completed"
    },
    "tags": []
   },
   "outputs": [],
   "source": [
    "model = get_model()"
   ]
  },
  {
   "cell_type": "code",
   "execution_count": 20,
   "id": "30bff839",
   "metadata": {
    "execution": {
     "iopub.execute_input": "2022-10-06T16:20:50.831812Z",
     "iopub.status.busy": "2022-10-06T16:20:50.831375Z",
     "iopub.status.idle": "2022-10-06T16:20:50.841597Z",
     "shell.execute_reply": "2022-10-06T16:20:50.839521Z"
    },
    "papermill": {
     "duration": 0.022707,
     "end_time": "2022-10-06T16:20:50.844488",
     "exception": false,
     "start_time": "2022-10-06T16:20:50.821781",
     "status": "completed"
    },
    "tags": []
   },
   "outputs": [
    {
     "name": "stdout",
     "output_type": "stream",
     "text": [
      "Model: \"sequential\"\n",
      "_________________________________________________________________\n",
      "Layer (type)                 Output Shape              Param #   \n",
      "=================================================================\n",
      "text_vectorization (TextVect (None, 200)               0         \n",
      "_________________________________________________________________\n",
      "Embedding (Embedding)        (None, 200, 32)           640000    \n",
      "_________________________________________________________________\n",
      "global_average_pooling1d (Gl (None, 32)                0         \n",
      "_________________________________________________________________\n",
      "dense (Dense)                (None, 32)                1056      \n",
      "_________________________________________________________________\n",
      "dense_1 (Dense)              (None, 6)                 198       \n",
      "=================================================================\n",
      "Total params: 641,254\n",
      "Trainable params: 641,254\n",
      "Non-trainable params: 0\n",
      "_________________________________________________________________\n"
     ]
    }
   ],
   "source": [
    "model.summary()"
   ]
  },
  {
   "cell_type": "code",
   "execution_count": 21,
   "id": "a2319a6d",
   "metadata": {
    "execution": {
     "iopub.execute_input": "2022-10-06T16:20:50.862775Z",
     "iopub.status.busy": "2022-10-06T16:20:50.862338Z",
     "iopub.status.idle": "2022-10-06T16:20:50.867654Z",
     "shell.execute_reply": "2022-10-06T16:20:50.866736Z"
    },
    "papermill": {
     "duration": 0.016977,
     "end_time": "2022-10-06T16:20:50.869835",
     "exception": false,
     "start_time": "2022-10-06T16:20:50.852858",
     "status": "completed"
    },
    "tags": []
   },
   "outputs": [],
   "source": [
    "def mean_squared_error(y_true, y_pred):\n",
    "    return tf.math.reduce_mean(tf.square(y_true-y_pred))"
   ]
  },
  {
   "cell_type": "code",
   "execution_count": 22,
   "id": "2f2396d2",
   "metadata": {
    "execution": {
     "iopub.execute_input": "2022-10-06T16:20:50.889681Z",
     "iopub.status.busy": "2022-10-06T16:20:50.887600Z",
     "iopub.status.idle": "2022-10-06T16:20:50.901622Z",
     "shell.execute_reply": "2022-10-06T16:20:50.900628Z"
    },
    "papermill": {
     "duration": 0.026042,
     "end_time": "2022-10-06T16:20:50.904176",
     "exception": false,
     "start_time": "2022-10-06T16:20:50.878134",
     "status": "completed"
    },
    "tags": []
   },
   "outputs": [],
   "source": [
    "model.compile(\n",
    "    optimizer=tf.keras.optimizers.Adam(learning_rate=1e-3),\n",
    "    loss=mean_squared_error,\n",
    "    metrics=metrics\n",
    ")"
   ]
  },
  {
   "cell_type": "code",
   "execution_count": 23,
   "id": "09e5b28f",
   "metadata": {
    "execution": {
     "iopub.execute_input": "2022-10-06T16:20:50.923134Z",
     "iopub.status.busy": "2022-10-06T16:20:50.922085Z",
     "iopub.status.idle": "2022-10-06T16:21:01.420346Z",
     "shell.execute_reply": "2022-10-06T16:21:01.419316Z"
    },
    "papermill": {
     "duration": 10.510772,
     "end_time": "2022-10-06T16:21:01.423207",
     "exception": false,
     "start_time": "2022-10-06T16:20:50.912435",
     "status": "completed"
    },
    "tags": []
   },
   "outputs": [
    {
     "name": "stdout",
     "output_type": "stream",
     "text": [
      "Epoch 1/5\n"
     ]
    },
    {
     "name": "stderr",
     "output_type": "stream",
     "text": [
      "2022-10-06 16:20:50.929607: I tensorflow/core/profiler/lib/profiler_session.cc:131] Profiler session initializing.\n",
      "2022-10-06 16:20:50.929671: I tensorflow/core/profiler/lib/profiler_session.cc:146] Profiler session started.\n",
      "2022-10-06 16:20:50.931049: I tensorflow/core/profiler/lib/profiler_session.cc:164] Profiler session tear down.\n"
     ]
    },
    {
     "name": "stdout",
     "output_type": "stream",
     "text": [
      " 13/108 [==>...........................] - ETA: 1s - loss: 9.9551 - root_mean_squared_error: 3.1552"
     ]
    },
    {
     "name": "stderr",
     "output_type": "stream",
     "text": [
      "2022-10-06 16:20:51.918214: I tensorflow/core/profiler/lib/profiler_session.cc:131] Profiler session initializing.\n",
      "2022-10-06 16:20:51.918280: I tensorflow/core/profiler/lib/profiler_session.cc:146] Profiler session started.\n",
      "2022-10-06 16:20:51.935473: I tensorflow/core/profiler/lib/profiler_session.cc:66] Profiler session collecting data.\n",
      "2022-10-06 16:20:51.939022: I tensorflow/core/profiler/lib/profiler_session.cc:164] Profiler session tear down.\n",
      "2022-10-06 16:20:51.954106: I tensorflow/core/profiler/rpc/client/save_profile.cc:136] Creating directory: logs/train/plugins/profile/2022_10_06_16_20_51\n",
      "\n",
      "2022-10-06 16:20:51.955773: I tensorflow/core/profiler/rpc/client/save_profile.cc:142] Dumped gzipped tool data for trace.json.gz to logs/train/plugins/profile/2022_10_06_16_20_51/26351478340f.trace.json.gz\n",
      "2022-10-06 16:20:51.974355: I tensorflow/core/profiler/rpc/client/save_profile.cc:136] Creating directory: logs/train/plugins/profile/2022_10_06_16_20_51\n",
      "\n",
      "2022-10-06 16:20:51.975355: I tensorflow/core/profiler/rpc/client/save_profile.cc:142] Dumped gzipped tool data for memory_profile.json.gz to logs/train/plugins/profile/2022_10_06_16_20_51/26351478340f.memory_profile.json.gz\n",
      "2022-10-06 16:20:51.975904: I tensorflow/core/profiler/rpc/client/capture_profile.cc:251] Creating directory: logs/train/plugins/profile/2022_10_06_16_20_51\n",
      "Dumped tool data for xplane.pb to logs/train/plugins/profile/2022_10_06_16_20_51/26351478340f.xplane.pb\n",
      "Dumped tool data for overview_page.pb to logs/train/plugins/profile/2022_10_06_16_20_51/26351478340f.overview_page.pb\n",
      "Dumped tool data for input_pipeline.pb to logs/train/plugins/profile/2022_10_06_16_20_51/26351478340f.input_pipeline.pb\n",
      "Dumped tool data for tensorflow_stats.pb to logs/train/plugins/profile/2022_10_06_16_20_51/26351478340f.tensorflow_stats.pb\n",
      "Dumped tool data for kernel_stats.pb to logs/train/plugins/profile/2022_10_06_16_20_51/26351478340f.kernel_stats.pb\n",
      "\n"
     ]
    },
    {
     "name": "stdout",
     "output_type": "stream",
     "text": [
      "108/108 [==============================] - 3s 15ms/step - loss: 5.9302 - root_mean_squared_error: 2.4352 - val_loss: 0.6265 - val_root_mean_squared_error: 0.7915\n",
      "Epoch 2/5\n",
      "108/108 [==============================] - 1s 12ms/step - loss: 0.4365 - root_mean_squared_error: 0.6607 - val_loss: 0.4430 - val_root_mean_squared_error: 0.6656\n",
      "Epoch 3/5\n",
      "108/108 [==============================] - 1s 12ms/step - loss: 0.3785 - root_mean_squared_error: 0.6153 - val_loss: 0.4091 - val_root_mean_squared_error: 0.6396\n",
      "Epoch 4/5\n",
      "108/108 [==============================] - 1s 12ms/step - loss: 0.3422 - root_mean_squared_error: 0.5850 - val_loss: 0.3815 - val_root_mean_squared_error: 0.6177\n",
      "Epoch 5/5\n",
      "108/108 [==============================] - 2s 14ms/step - loss: 0.3131 - root_mean_squared_error: 0.5596 - val_loss: 0.3606 - val_root_mean_squared_error: 0.6005\n"
     ]
    }
   ],
   "source": [
    "EPOCHS = 5\n",
    "\n",
    "history = model.fit(\n",
    "    train_ds,\n",
    "    epochs=EPOCHS,\n",
    "    validation_data=val_ds,\n",
    "    callbacks=[\n",
    "        tf.keras.callbacks.EarlyStopping(monitor=\"val_loss\", patience=2),\n",
    "        tf.keras.callbacks.TensorBoard()\n",
    "    ]\n",
    ")"
   ]
  },
  {
   "cell_type": "code",
   "execution_count": 24,
   "id": "92a2871e",
   "metadata": {
    "execution": {
     "iopub.execute_input": "2022-10-06T16:21:01.459216Z",
     "iopub.status.busy": "2022-10-06T16:21:01.458047Z",
     "iopub.status.idle": "2022-10-06T16:21:01.464843Z",
     "shell.execute_reply": "2022-10-06T16:21:01.463581Z"
    },
    "papermill": {
     "duration": 0.027185,
     "end_time": "2022-10-06T16:21:01.467650",
     "exception": false,
     "start_time": "2022-10-06T16:21:01.440465",
     "status": "completed"
    },
    "tags": []
   },
   "outputs": [
    {
     "name": "stdout",
     "output_type": "stream",
     "text": [
      "dict_keys(['loss', 'root_mean_squared_error', 'val_loss', 'val_root_mean_squared_error'])\n"
     ]
    }
   ],
   "source": [
    "print(history.history.keys())"
   ]
  },
  {
   "cell_type": "code",
   "execution_count": 25,
   "id": "b2b63fac",
   "metadata": {
    "execution": {
     "iopub.execute_input": "2022-10-06T16:21:01.503691Z",
     "iopub.status.busy": "2022-10-06T16:21:01.502982Z",
     "iopub.status.idle": "2022-10-06T16:21:01.874370Z",
     "shell.execute_reply": "2022-10-06T16:21:01.873185Z"
    },
    "papermill": {
     "duration": 0.39249,
     "end_time": "2022-10-06T16:21:01.877370",
     "exception": false,
     "start_time": "2022-10-06T16:21:01.484880",
     "status": "completed"
    },
    "tags": []
   },
   "outputs": [
    {
     "data": {
      "image/png": "[encoded data removed]",
      "text/plain": [
       "<Figure size 576x576 with 2 Axes>"
      ]
     },
     "metadata": {
      "needs_background": "light"
     },
     "output_type": "display_data"
    }
   ],
   "source": [
    "mse = history.history[\"root_mean_squared_error\"]\n",
    "val_mse = history.history[\"val_root_mean_squared_error\"]\n",
    "\n",
    "loss = history.history[\"loss\"]\n",
    "val_loss = history.history[\"val_loss\"]\n",
    "\n",
    "import matplotlib.pyplot as plt\n",
    "\n",
    "plt.figure(figsize=(8,8))\n",
    "\n",
    "plt.subplot(2,1,1)\n",
    "plt.plot(mse, label=\"MSE\")\n",
    "plt.plot(val_mse, label=\"Validation MSE\")\n",
    "plt.legend(loc=\"upper left\")\n",
    "\n",
    "plt.subplot(2,1,2)\n",
    "plt.plot(loss, label=\"Loss\")\n",
    "plt.plot(val_loss, label=\"Validation Loss\")\n",
    "plt.legend(loc=\"upper left\")\n",
    "\n",
    "plt.show()"
   ]
  },
  {
   "cell_type": "code",
   "execution_count": 26,
   "id": "8fe90f64",
   "metadata": {
    "execution": {
     "iopub.execute_input": "2022-10-06T16:21:01.915597Z",
     "iopub.status.busy": "2022-10-06T16:21:01.914919Z",
     "iopub.status.idle": "2022-10-06T16:21:02.177421Z",
     "shell.execute_reply": "2022-10-06T16:21:02.176103Z"
    },
    "papermill": {
     "duration": 0.285626,
     "end_time": "2022-10-06T16:21:02.180537",
     "exception": false,
     "start_time": "2022-10-06T16:21:01.894911",
     "status": "completed"
    },
    "tags": []
   },
   "outputs": [
    {
     "name": "stdout",
     "output_type": "stream",
     "text": [
      "[[2.481571  2.4062898 2.5845876 2.4623208 2.4033098 2.4406168]]\n"
     ]
    }
   ],
   "source": [
    "text = [\n",
    "    \"Writing is a foundational skill. Sadly, it's one few students are able to hone, often because writing tasks are infrequently assigned in school. A rapidly growing student population, students learning English as a second language, known as English Language Learners (ELLs), are especially affected by the lack of practice. While automated feedback tools make it easier for teachers to assign more writing tasks, they are not designed with ELLs in mind.Competition host Vanderbilt University is a private research university in Nashville, Tennessee. It offers 70 undergraduate majors and a full range of graduate and professional degrees across 10 schools and colleges, all on a beautiful campus—an accredited arboretum—complete with athletic facilities and state-of-the-art laboratories. Vanderbilt is optimized to inspire and nurture cross-disciplinary research that fosters discoveries that have global impact. Vanderbilt and co-host, The Learning Agency Lab, an independent nonprofit based in Arizona, are focused on developing science of learning-based tools and programs for social good.\"\n",
    "]\n",
    "\n",
    "prediction = model.predict(text)\n",
    "print(prediction)"
   ]
  }
 ],
 "metadata": {
  "kernelspec": {
   "display_name": "Python 3",
   "language": "python",
   "name": "python3"
  },
  "language_info": {
   "codemirror_mode": {
    "name": "ipython",
    "version": 3
   },
   "file_extension": ".py",
   "mimetype": "text/x-python",
   "name": "python",
   "nbconvert_exporter": "python",
   "pygments_lexer": "ipython3",
   "version": "3.7.12"
  },
  "papermill": {
   "default_parameters": {},
   "duration": 34.246128,
   "end_time": "2022-10-06T16:21:05.750379",
   "environment_variables": {},
   "exception": null,
   "input_path": "__notebook__.ipynb",
   "output_path": "__notebook__.ipynb",
   "parameters": {},
   "start_time": "2022-10-06T16:20:31.504251",
   "version": "2.3.4"
  }
 },
 "nbformat": 4,
 "nbformat_minor": 5
}
