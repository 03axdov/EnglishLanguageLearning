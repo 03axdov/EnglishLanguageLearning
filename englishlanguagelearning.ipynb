{
 "cells": [
  {
   "cell_type": "code",
   "execution_count": 1,
   "id": "c244e5b0",
   "metadata": {
    "_cell_guid": "b1076dfc-b9ad-4769-8c92-a6c4dae69d19",
    "_uuid": "8f2839f25d086af736a60e9eeb907d3b93b6e0e5",
    "execution": {
     "iopub.execute_input": "2022-10-10T15:18:11.298025Z",
     "iopub.status.busy": "2022-10-10T15:18:11.296958Z",
     "iopub.status.idle": "2022-10-10T15:18:18.881117Z",
     "shell.execute_reply": "2022-10-10T15:18:18.879940Z"
    },
    "papermill": {
     "duration": 7.599176,
     "end_time": "2022-10-10T15:18:18.884541",
     "exception": false,
     "start_time": "2022-10-10T15:18:11.285365",
     "status": "completed"
    },
    "tags": []
   },
   "outputs": [],
   "source": [
    "import os\n",
    "os.environ[\"CPP_TF_MIN_LOG_LEVEL\"] = \"3\"\n",
    "\n",
    "import tensorflow as tf\n",
    "from tensorflow.keras import layers\n",
    "import numpy as np\n",
    "import pandas as pd"
   ]
  },
  {
   "cell_type": "code",
   "execution_count": 2,
   "id": "b594f27d",
   "metadata": {
    "execution": {
     "iopub.execute_input": "2022-10-10T15:18:18.904095Z",
     "iopub.status.busy": "2022-10-10T15:18:18.903349Z",
     "iopub.status.idle": "2022-10-10T15:18:18.909464Z",
     "shell.execute_reply": "2022-10-10T15:18:18.908141Z"
    },
    "papermill": {
     "duration": 0.019472,
     "end_time": "2022-10-10T15:18:18.912256",
     "exception": false,
     "start_time": "2022-10-10T15:18:18.892784",
     "status": "completed"
    },
    "tags": []
   },
   "outputs": [],
   "source": [
    "tf.random.set_seed(47)"
   ]
  },
  {
   "cell_type": "code",
   "execution_count": 3,
   "id": "b57506e5",
   "metadata": {
    "execution": {
     "iopub.execute_input": "2022-10-10T15:18:18.930196Z",
     "iopub.status.busy": "2022-10-10T15:18:18.929765Z",
     "iopub.status.idle": "2022-10-10T15:18:19.008556Z",
     "shell.execute_reply": "2022-10-10T15:18:19.007285Z"
    },
    "papermill": {
     "duration": 0.091449,
     "end_time": "2022-10-10T15:18:19.011917",
     "exception": false,
     "start_time": "2022-10-10T15:18:18.920468",
     "status": "completed"
    },
    "tags": []
   },
   "outputs": [
    {
     "name": "stderr",
     "output_type": "stream",
     "text": [
      "2022-10-10 15:18:18.972762: I tensorflow/core/common_runtime/process_util.cc:146] Creating new thread pool with default inter op setting: 2. Tune using inter_op_parallelism_threads for best performance.\n"
     ]
    }
   ],
   "source": [
    "metrics = [tf.keras.metrics.RootMeanSquaredError()]"
   ]
  },
  {
   "cell_type": "code",
   "execution_count": 4,
   "id": "1b347b01",
   "metadata": {
    "execution": {
     "iopub.execute_input": "2022-10-10T15:18:19.030301Z",
     "iopub.status.busy": "2022-10-10T15:18:19.028985Z",
     "iopub.status.idle": "2022-10-10T15:18:19.332277Z",
     "shell.execute_reply": "2022-10-10T15:18:19.331293Z"
    },
    "papermill": {
     "duration": 0.315132,
     "end_time": "2022-10-10T15:18:19.335054",
     "exception": false,
     "start_time": "2022-10-10T15:18:19.019922",
     "status": "completed"
    },
    "tags": []
   },
   "outputs": [],
   "source": [
    "train_ds = pd.read_csv(\"../input/feedback-prize-english-language-learning/train.csv\")\n",
    "test_ds = pd.read_csv(\"../input/feedback-prize-english-language-learning/test.csv\")"
   ]
  },
  {
   "cell_type": "code",
   "execution_count": 5,
   "id": "b4f49d70",
   "metadata": {
    "execution": {
     "iopub.execute_input": "2022-10-10T15:18:19.354495Z",
     "iopub.status.busy": "2022-10-10T15:18:19.353646Z",
     "iopub.status.idle": "2022-10-10T15:18:19.386244Z",
     "shell.execute_reply": "2022-10-10T15:18:19.385004Z"
    },
    "papermill": {
     "duration": 0.044728,
     "end_time": "2022-10-10T15:18:19.388818",
     "exception": false,
     "start_time": "2022-10-10T15:18:19.344090",
     "status": "completed"
    },
    "tags": []
   },
   "outputs": [
    {
     "name": "stdout",
     "output_type": "stream",
     "text": [
      "(3911, 8)\n"
     ]
    },
    {
     "data": {
      "text/html": [
       "<div>\n",
       "<style scoped>\n",
       "    .dataframe tbody tr th:only-of-type {\n",
       "        vertical-align: middle;\n",
       "    }\n",
       "\n",
       "    .dataframe tbody tr th {\n",
       "        vertical-align: top;\n",
       "    }\n",
       "\n",
       "    .dataframe thead th {\n",
       "        text-align: right;\n",
       "    }\n",
       "</style>\n",
       "<table border=\"1\" class=\"dataframe\">\n",
       "  <thead>\n",
       "    <tr style=\"text-align: right;\">\n",
       "      <th></th>\n",
       "      <th>text_id</th>\n",
       "      <th>full_text</th>\n",
       "      <th>cohesion</th>\n",
       "      <th>syntax</th>\n",
       "      <th>vocabulary</th>\n",
       "      <th>phraseology</th>\n",
       "      <th>grammar</th>\n",
       "      <th>conventions</th>\n",
       "    </tr>\n",
       "  </thead>\n",
       "  <tbody>\n",
       "    <tr>\n",
       "      <th>0</th>\n",
       "      <td>0016926B079C</td>\n",
       "      <td>I think that students would benefit from learn...</td>\n",
       "      <td>3.5</td>\n",
       "      <td>3.5</td>\n",
       "      <td>3.0</td>\n",
       "      <td>3.0</td>\n",
       "      <td>4.0</td>\n",
       "      <td>3.0</td>\n",
       "    </tr>\n",
       "    <tr>\n",
       "      <th>1</th>\n",
       "      <td>0022683E9EA5</td>\n",
       "      <td>When a problem is a change you have to let it ...</td>\n",
       "      <td>2.5</td>\n",
       "      <td>2.5</td>\n",
       "      <td>3.0</td>\n",
       "      <td>2.0</td>\n",
       "      <td>2.0</td>\n",
       "      <td>2.5</td>\n",
       "    </tr>\n",
       "    <tr>\n",
       "      <th>2</th>\n",
       "      <td>00299B378633</td>\n",
       "      <td>Dear, Principal\\n\\nIf u change the school poli...</td>\n",
       "      <td>3.0</td>\n",
       "      <td>3.5</td>\n",
       "      <td>3.0</td>\n",
       "      <td>3.0</td>\n",
       "      <td>3.0</td>\n",
       "      <td>2.5</td>\n",
       "    </tr>\n",
       "    <tr>\n",
       "      <th>3</th>\n",
       "      <td>003885A45F42</td>\n",
       "      <td>The best time in life is when you become yours...</td>\n",
       "      <td>4.5</td>\n",
       "      <td>4.5</td>\n",
       "      <td>4.5</td>\n",
       "      <td>4.5</td>\n",
       "      <td>4.0</td>\n",
       "      <td>5.0</td>\n",
       "    </tr>\n",
       "    <tr>\n",
       "      <th>4</th>\n",
       "      <td>0049B1DF5CCC</td>\n",
       "      <td>Small act of kindness can impact in other peop...</td>\n",
       "      <td>2.5</td>\n",
       "      <td>3.0</td>\n",
       "      <td>3.0</td>\n",
       "      <td>3.0</td>\n",
       "      <td>2.5</td>\n",
       "      <td>2.5</td>\n",
       "    </tr>\n",
       "  </tbody>\n",
       "</table>\n",
       "</div>"
      ],
      "text/plain": [
       "        text_id                                          full_text  cohesion  \\\n",
       "0  0016926B079C  I think that students would benefit from learn...       3.5   \n",
       "1  0022683E9EA5  When a problem is a change you have to let it ...       2.5   \n",
       "2  00299B378633  Dear, Principal\\n\\nIf u change the school poli...       3.0   \n",
       "3  003885A45F42  The best time in life is when you become yours...       4.5   \n",
       "4  0049B1DF5CCC  Small act of kindness can impact in other peop...       2.5   \n",
       "\n",
       "   syntax  vocabulary  phraseology  grammar  conventions  \n",
       "0     3.5         3.0          3.0      4.0          3.0  \n",
       "1     2.5         3.0          2.0      2.0          2.5  \n",
       "2     3.5         3.0          3.0      3.0          2.5  \n",
       "3     4.5         4.5          4.5      4.0          5.0  \n",
       "4     3.0         3.0          3.0      2.5          2.5  "
      ]
     },
     "execution_count": 5,
     "metadata": {},
     "output_type": "execute_result"
    }
   ],
   "source": [
    "print(train_ds.shape)\n",
    "train_ds.head()"
   ]
  },
  {
   "cell_type": "code",
   "execution_count": 6,
   "id": "92d66212",
   "metadata": {
    "execution": {
     "iopub.execute_input": "2022-10-10T15:18:19.409815Z",
     "iopub.status.busy": "2022-10-10T15:18:19.409061Z",
     "iopub.status.idle": "2022-10-10T15:18:19.421644Z",
     "shell.execute_reply": "2022-10-10T15:18:19.420018Z"
    },
    "papermill": {
     "duration": 0.025926,
     "end_time": "2022-10-10T15:18:19.424870",
     "exception": false,
     "start_time": "2022-10-10T15:18:19.398944",
     "status": "completed"
    },
    "tags": []
   },
   "outputs": [
    {
     "name": "stdout",
     "output_type": "stream",
     "text": [
      "(3, 2)\n"
     ]
    },
    {
     "data": {
      "text/html": [
       "<div>\n",
       "<style scoped>\n",
       "    .dataframe tbody tr th:only-of-type {\n",
       "        vertical-align: middle;\n",
       "    }\n",
       "\n",
       "    .dataframe tbody tr th {\n",
       "        vertical-align: top;\n",
       "    }\n",
       "\n",
       "    .dataframe thead th {\n",
       "        text-align: right;\n",
       "    }\n",
       "</style>\n",
       "<table border=\"1\" class=\"dataframe\">\n",
       "  <thead>\n",
       "    <tr style=\"text-align: right;\">\n",
       "      <th></th>\n",
       "      <th>text_id</th>\n",
       "      <th>full_text</th>\n",
       "    </tr>\n",
       "  </thead>\n",
       "  <tbody>\n",
       "    <tr>\n",
       "      <th>0</th>\n",
       "      <td>0000C359D63E</td>\n",
       "      <td>when a person has no experience on a job their...</td>\n",
       "    </tr>\n",
       "    <tr>\n",
       "      <th>1</th>\n",
       "      <td>000BAD50D026</td>\n",
       "      <td>Do you think students would benefit from being...</td>\n",
       "    </tr>\n",
       "    <tr>\n",
       "      <th>2</th>\n",
       "      <td>00367BB2546B</td>\n",
       "      <td>Thomas Jefferson once states that \"it is wonde...</td>\n",
       "    </tr>\n",
       "  </tbody>\n",
       "</table>\n",
       "</div>"
      ],
      "text/plain": [
       "        text_id                                          full_text\n",
       "0  0000C359D63E  when a person has no experience on a job their...\n",
       "1  000BAD50D026  Do you think students would benefit from being...\n",
       "2  00367BB2546B  Thomas Jefferson once states that \"it is wonde..."
      ]
     },
     "execution_count": 6,
     "metadata": {},
     "output_type": "execute_result"
    }
   ],
   "source": [
    "print(test_ds.shape)\n",
    "test_ds.head()"
   ]
  },
  {
   "cell_type": "code",
   "execution_count": 7,
   "id": "a75d7fd7",
   "metadata": {
    "execution": {
     "iopub.execute_input": "2022-10-10T15:18:19.446586Z",
     "iopub.status.busy": "2022-10-10T15:18:19.446072Z",
     "iopub.status.idle": "2022-10-10T15:18:19.460779Z",
     "shell.execute_reply": "2022-10-10T15:18:19.459636Z"
    },
    "papermill": {
     "duration": 0.028808,
     "end_time": "2022-10-10T15:18:19.463514",
     "exception": false,
     "start_time": "2022-10-10T15:18:19.434706",
     "status": "completed"
    },
    "tags": []
   },
   "outputs": [],
   "source": [
    "train_features = train_ds.pop(\"full_text\")\n",
    "train_ds.pop(\"text_id\")\n",
    "train_labels = train_ds\n",
    "\n",
    "num_classes = train_labels.shape[-1]"
   ]
  },
  {
   "cell_type": "code",
   "execution_count": 8,
   "id": "df359593",
   "metadata": {
    "execution": {
     "iopub.execute_input": "2022-10-10T15:18:19.482520Z",
     "iopub.status.busy": "2022-10-10T15:18:19.482123Z",
     "iopub.status.idle": "2022-10-10T15:18:19.491408Z",
     "shell.execute_reply": "2022-10-10T15:18:19.490132Z"
    },
    "papermill": {
     "duration": 0.021881,
     "end_time": "2022-10-10T15:18:19.493911",
     "exception": false,
     "start_time": "2022-10-10T15:18:19.472030",
     "status": "completed"
    },
    "tags": []
   },
   "outputs": [
    {
     "data": {
      "text/plain": [
       "0    I think that students would benefit from learn...\n",
       "1    When a problem is a change you have to let it ...\n",
       "2    Dear, Principal\\n\\nIf u change the school poli...\n",
       "3    The best time in life is when you become yours...\n",
       "4    Small act of kindness can impact in other peop...\n",
       "Name: full_text, dtype: object"
      ]
     },
     "execution_count": 8,
     "metadata": {},
     "output_type": "execute_result"
    }
   ],
   "source": [
    "train_features.head()"
   ]
  },
  {
   "cell_type": "code",
   "execution_count": 9,
   "id": "5a6e8bd1",
   "metadata": {
    "execution": {
     "iopub.execute_input": "2022-10-10T15:18:19.513470Z",
     "iopub.status.busy": "2022-10-10T15:18:19.513071Z",
     "iopub.status.idle": "2022-10-10T15:18:19.529502Z",
     "shell.execute_reply": "2022-10-10T15:18:19.528208Z"
    },
    "papermill": {
     "duration": 0.029609,
     "end_time": "2022-10-10T15:18:19.532062",
     "exception": false,
     "start_time": "2022-10-10T15:18:19.502453",
     "status": "completed"
    },
    "tags": []
   },
   "outputs": [
    {
     "data": {
      "text/html": [
       "<div>\n",
       "<style scoped>\n",
       "    .dataframe tbody tr th:only-of-type {\n",
       "        vertical-align: middle;\n",
       "    }\n",
       "\n",
       "    .dataframe tbody tr th {\n",
       "        vertical-align: top;\n",
       "    }\n",
       "\n",
       "    .dataframe thead th {\n",
       "        text-align: right;\n",
       "    }\n",
       "</style>\n",
       "<table border=\"1\" class=\"dataframe\">\n",
       "  <thead>\n",
       "    <tr style=\"text-align: right;\">\n",
       "      <th></th>\n",
       "      <th>cohesion</th>\n",
       "      <th>syntax</th>\n",
       "      <th>vocabulary</th>\n",
       "      <th>phraseology</th>\n",
       "      <th>grammar</th>\n",
       "      <th>conventions</th>\n",
       "    </tr>\n",
       "  </thead>\n",
       "  <tbody>\n",
       "    <tr>\n",
       "      <th>0</th>\n",
       "      <td>3.5</td>\n",
       "      <td>3.5</td>\n",
       "      <td>3.0</td>\n",
       "      <td>3.0</td>\n",
       "      <td>4.0</td>\n",
       "      <td>3.0</td>\n",
       "    </tr>\n",
       "    <tr>\n",
       "      <th>1</th>\n",
       "      <td>2.5</td>\n",
       "      <td>2.5</td>\n",
       "      <td>3.0</td>\n",
       "      <td>2.0</td>\n",
       "      <td>2.0</td>\n",
       "      <td>2.5</td>\n",
       "    </tr>\n",
       "    <tr>\n",
       "      <th>2</th>\n",
       "      <td>3.0</td>\n",
       "      <td>3.5</td>\n",
       "      <td>3.0</td>\n",
       "      <td>3.0</td>\n",
       "      <td>3.0</td>\n",
       "      <td>2.5</td>\n",
       "    </tr>\n",
       "    <tr>\n",
       "      <th>3</th>\n",
       "      <td>4.5</td>\n",
       "      <td>4.5</td>\n",
       "      <td>4.5</td>\n",
       "      <td>4.5</td>\n",
       "      <td>4.0</td>\n",
       "      <td>5.0</td>\n",
       "    </tr>\n",
       "    <tr>\n",
       "      <th>4</th>\n",
       "      <td>2.5</td>\n",
       "      <td>3.0</td>\n",
       "      <td>3.0</td>\n",
       "      <td>3.0</td>\n",
       "      <td>2.5</td>\n",
       "      <td>2.5</td>\n",
       "    </tr>\n",
       "  </tbody>\n",
       "</table>\n",
       "</div>"
      ],
      "text/plain": [
       "   cohesion  syntax  vocabulary  phraseology  grammar  conventions\n",
       "0       3.5     3.5         3.0          3.0      4.0          3.0\n",
       "1       2.5     2.5         3.0          2.0      2.0          2.5\n",
       "2       3.0     3.5         3.0          3.0      3.0          2.5\n",
       "3       4.5     4.5         4.5          4.5      4.0          5.0\n",
       "4       2.5     3.0         3.0          3.0      2.5          2.5"
      ]
     },
     "execution_count": 9,
     "metadata": {},
     "output_type": "execute_result"
    }
   ],
   "source": [
    "train_labels.head()"
   ]
  },
  {
   "cell_type": "code",
   "execution_count": 10,
   "id": "18e6fc09",
   "metadata": {
    "execution": {
     "iopub.execute_input": "2022-10-10T15:18:19.551845Z",
     "iopub.status.busy": "2022-10-10T15:18:19.551433Z",
     "iopub.status.idle": "2022-10-10T15:18:19.592226Z",
     "shell.execute_reply": "2022-10-10T15:18:19.590884Z"
    },
    "papermill": {
     "duration": 0.054377,
     "end_time": "2022-10-10T15:18:19.595308",
     "exception": false,
     "start_time": "2022-10-10T15:18:19.540931",
     "status": "completed"
    },
    "tags": []
   },
   "outputs": [
    {
     "data": {
      "text/plain": [
       "<tf.Tensor: shape=(), dtype=int64, numpy=3911>"
      ]
     },
     "execution_count": 10,
     "metadata": {},
     "output_type": "execute_result"
    }
   ],
   "source": [
    "train_ds = tf.data.Dataset.from_tensor_slices((train_features, train_labels))\n",
    "\n",
    "tf.data.experimental.cardinality(train_ds)"
   ]
  },
  {
   "cell_type": "code",
   "execution_count": 11,
   "id": "a594c81c",
   "metadata": {
    "execution": {
     "iopub.execute_input": "2022-10-10T15:18:19.616034Z",
     "iopub.status.busy": "2022-10-10T15:18:19.615311Z",
     "iopub.status.idle": "2022-10-10T15:18:19.625526Z",
     "shell.execute_reply": "2022-10-10T15:18:19.624627Z"
    },
    "papermill": {
     "duration": 0.023331,
     "end_time": "2022-10-10T15:18:19.628095",
     "exception": false,
     "start_time": "2022-10-10T15:18:19.604764",
     "status": "completed"
    },
    "tags": []
   },
   "outputs": [],
   "source": [
    "train_ds = train_ds.cache().batch(32).prefetch(buffer_size=tf.data.AUTOTUNE)"
   ]
  },
  {
   "cell_type": "code",
   "execution_count": 12,
   "id": "d87dc809",
   "metadata": {
    "execution": {
     "iopub.execute_input": "2022-10-10T15:18:19.648025Z",
     "iopub.status.busy": "2022-10-10T15:18:19.647402Z",
     "iopub.status.idle": "2022-10-10T15:18:19.654642Z",
     "shell.execute_reply": "2022-10-10T15:18:19.653502Z"
    },
    "papermill": {
     "duration": 0.020138,
     "end_time": "2022-10-10T15:18:19.657103",
     "exception": false,
     "start_time": "2022-10-10T15:18:19.636965",
     "status": "completed"
    },
    "tags": []
   },
   "outputs": [],
   "source": [
    "val_ds = train_ds.take(15)\n",
    "train_ds = train_ds.skip(15)"
   ]
  },
  {
   "cell_type": "code",
   "execution_count": 13,
   "id": "9ee1925a",
   "metadata": {
    "execution": {
     "iopub.execute_input": "2022-10-10T15:18:19.677630Z",
     "iopub.status.busy": "2022-10-10T15:18:19.676926Z",
     "iopub.status.idle": "2022-10-10T15:18:19.747081Z",
     "shell.execute_reply": "2022-10-10T15:18:19.745308Z"
    },
    "papermill": {
     "duration": 0.083222,
     "end_time": "2022-10-10T15:18:19.749579",
     "exception": false,
     "start_time": "2022-10-10T15:18:19.666357",
     "status": "completed"
    },
    "tags": []
   },
   "outputs": [
    {
     "name": "stdout",
     "output_type": "stream",
     "text": [
      "Text: b'Students and Families should be left to decide if they want to get involved in extracurricular activities. Students should know what they want to do like get involved in more or less extracurricular activities. Teachers say students get stressed over more extracurricular activities. That is not true students do not get stressed over extracurricular activities. Students should have their own choice if they wish to take ore extracurricular work.\\n\\nStudents and Families should be allowed to pick if they want ht o continue extracurricular activities or not, and if it is too much for the student to handle in one day. because the overload of activities they do. I believe the school should not get involved at all and let the students have responsibilities to handle their situation. For example a student will be able to decide whether or not they wish to take an extracurricular activities event.\\n\\nStudents have reasons on why they should be able to settle it with their families. One of those reasons is that the parents can pick whats a safe and valuable extracurricular activity for their child. Another reason would be is that a Student would prefer a parent to be their instead of a teacher.'\n",
      "Labels: [3.  3.  3.  3.  4.  3.5]\n"
     ]
    },
    {
     "name": "stderr",
     "output_type": "stream",
     "text": [
      "2022-10-10 15:18:19.737111: W tensorflow/core/kernels/data/cache_dataset_ops.cc:768] The calling iterator did not fully read the dataset being cached. In order to avoid unexpected truncation of the dataset, the partially cached contents of the dataset  will be discarded. This can happen if you have an input pipeline similar to `dataset.cache().take(k).repeat()`. You should use `dataset.take(k).cache().repeat()` instead.\n"
     ]
    }
   ],
   "source": [
    "for text_batch, label_batch in train_ds.take(1):\n",
    "  print(f\"Text: {text_batch[0]}\")\n",
    "  print(f\"Labels: {label_batch[0]}\")"
   ]
  },
  {
   "cell_type": "code",
   "execution_count": 14,
   "id": "e8fc5ce5",
   "metadata": {
    "execution": {
     "iopub.execute_input": "2022-10-10T15:18:19.769914Z",
     "iopub.status.busy": "2022-10-10T15:18:19.769212Z",
     "iopub.status.idle": "2022-10-10T15:18:19.777116Z",
     "shell.execute_reply": "2022-10-10T15:18:19.775870Z"
    },
    "papermill": {
     "duration": 0.020876,
     "end_time": "2022-10-10T15:18:19.779575",
     "exception": false,
     "start_time": "2022-10-10T15:18:19.758699",
     "status": "completed"
    },
    "tags": []
   },
   "outputs": [
    {
     "data": {
      "text/plain": [
       "TensorShape([])"
      ]
     },
     "execution_count": 14,
     "metadata": {},
     "output_type": "execute_result"
    }
   ],
   "source": [
    "text_batch[0].shape"
   ]
  },
  {
   "cell_type": "code",
   "execution_count": 15,
   "id": "e5a773e8",
   "metadata": {
    "execution": {
     "iopub.execute_input": "2022-10-10T15:18:19.799812Z",
     "iopub.status.busy": "2022-10-10T15:18:19.799387Z",
     "iopub.status.idle": "2022-10-10T15:18:19.805454Z",
     "shell.execute_reply": "2022-10-10T15:18:19.804534Z"
    },
    "papermill": {
     "duration": 0.018996,
     "end_time": "2022-10-10T15:18:19.807713",
     "exception": false,
     "start_time": "2022-10-10T15:18:19.788717",
     "status": "completed"
    },
    "tags": []
   },
   "outputs": [],
   "source": [
    "import re\n",
    "import string\n",
    "\n",
    "def custom_standardization(input_data):\n",
    "  lowercase = tf.strings.lower(input_data)\n",
    "  stripped = tf.strings.regex_replace(lowercase, '\\n', ' ')\n",
    "  return tf.strings.regex_replace(stripped, f\"[{re.escape(string.punctuation)}]\", '')"
   ]
  },
  {
   "cell_type": "code",
   "execution_count": 16,
   "id": "6cb4a4f2",
   "metadata": {
    "execution": {
     "iopub.execute_input": "2022-10-10T15:18:19.829581Z",
     "iopub.status.busy": "2022-10-10T15:18:19.828429Z",
     "iopub.status.idle": "2022-10-10T15:18:19.849700Z",
     "shell.execute_reply": "2022-10-10T15:18:19.848410Z"
    },
    "papermill": {
     "duration": 0.035005,
     "end_time": "2022-10-10T15:18:19.852523",
     "exception": false,
     "start_time": "2022-10-10T15:18:19.817518",
     "status": "completed"
    },
    "tags": []
   },
   "outputs": [],
   "source": [
    "vocab_size = 10000\n",
    "sequence_length = 200\n",
    "\n",
    "vectorize_layer = tf.keras.layers.TextVectorization(\n",
    "    standardize=custom_standardization,\n",
    "    max_tokens=vocab_size,\n",
    "    output_sequence_length=200\n",
    ")"
   ]
  },
  {
   "cell_type": "code",
   "execution_count": 17,
   "id": "bb24053d",
   "metadata": {
    "execution": {
     "iopub.execute_input": "2022-10-10T15:18:19.872821Z",
     "iopub.status.busy": "2022-10-10T15:18:19.872404Z",
     "iopub.status.idle": "2022-10-10T15:18:20.158549Z",
     "shell.execute_reply": "2022-10-10T15:18:20.157307Z"
    },
    "papermill": {
     "duration": 0.299631,
     "end_time": "2022-10-10T15:18:20.161446",
     "exception": false,
     "start_time": "2022-10-10T15:18:19.861815",
     "status": "completed"
    },
    "tags": []
   },
   "outputs": [],
   "source": [
    "text_ds = train_ds.map(lambda x, y: x)"
   ]
  },
  {
   "cell_type": "code",
   "execution_count": 18,
   "id": "6d1fd35e",
   "metadata": {
    "execution": {
     "iopub.execute_input": "2022-10-10T15:18:20.181744Z",
     "iopub.status.busy": "2022-10-10T15:18:20.181336Z",
     "iopub.status.idle": "2022-10-10T15:18:20.870070Z",
     "shell.execute_reply": "2022-10-10T15:18:20.868798Z"
    },
    "papermill": {
     "duration": 0.701989,
     "end_time": "2022-10-10T15:18:20.872638",
     "exception": false,
     "start_time": "2022-10-10T15:18:20.170649",
     "status": "completed"
    },
    "tags": []
   },
   "outputs": [
    {
     "name": "stderr",
     "output_type": "stream",
     "text": [
      "2022-10-10 15:18:20.210083: I tensorflow/compiler/mlir/mlir_graph_optimization_pass.cc:185] None of the MLIR Optimization Passes are enabled (registered 2)\n"
     ]
    },
    {
     "data": {
      "text/plain": [
       "['',\n",
       " '[UNK]',\n",
       " 'to',\n",
       " 'the',\n",
       " 'and',\n",
       " 'you',\n",
       " 'a',\n",
       " 'that',\n",
       " 'in',\n",
       " 'they',\n",
       " 'is',\n",
       " 'i',\n",
       " 'of',\n",
       " 'have',\n",
       " 'for',\n",
       " 'be',\n",
       " 'it',\n",
       " 'can',\n",
       " 'because',\n",
       " 'people']"
      ]
     },
     "execution_count": 18,
     "metadata": {},
     "output_type": "execute_result"
    }
   ],
   "source": [
    "vectorize_layer.adapt(text_ds)\n",
    "vectorize_layer.get_vocabulary()[:20]"
   ]
  },
  {
   "cell_type": "code",
   "execution_count": 19,
   "id": "64a45e9a",
   "metadata": {
    "execution": {
     "iopub.execute_input": "2022-10-10T15:18:20.893639Z",
     "iopub.status.busy": "2022-10-10T15:18:20.893216Z",
     "iopub.status.idle": "2022-10-10T15:18:20.907658Z",
     "shell.execute_reply": "2022-10-10T15:18:20.906807Z"
    },
    "papermill": {
     "duration": 0.027801,
     "end_time": "2022-10-10T15:18:20.909790",
     "exception": false,
     "start_time": "2022-10-10T15:18:20.881989",
     "status": "completed"
    },
    "tags": []
   },
   "outputs": [
    {
     "data": {
      "text/html": [
       "<div>\n",
       "<style scoped>\n",
       "    .dataframe tbody tr th:only-of-type {\n",
       "        vertical-align: middle;\n",
       "    }\n",
       "\n",
       "    .dataframe tbody tr th {\n",
       "        vertical-align: top;\n",
       "    }\n",
       "\n",
       "    .dataframe thead th {\n",
       "        text-align: right;\n",
       "    }\n",
       "</style>\n",
       "<table border=\"1\" class=\"dataframe\">\n",
       "  <thead>\n",
       "    <tr style=\"text-align: right;\">\n",
       "      <th></th>\n",
       "      <th>cohesion</th>\n",
       "      <th>syntax</th>\n",
       "      <th>vocabulary</th>\n",
       "      <th>phraseology</th>\n",
       "      <th>grammar</th>\n",
       "      <th>conventions</th>\n",
       "    </tr>\n",
       "  </thead>\n",
       "  <tbody>\n",
       "    <tr>\n",
       "      <th>0</th>\n",
       "      <td>3.5</td>\n",
       "      <td>3.5</td>\n",
       "      <td>3.0</td>\n",
       "      <td>3.0</td>\n",
       "      <td>4.0</td>\n",
       "      <td>3.0</td>\n",
       "    </tr>\n",
       "    <tr>\n",
       "      <th>1</th>\n",
       "      <td>2.5</td>\n",
       "      <td>2.5</td>\n",
       "      <td>3.0</td>\n",
       "      <td>2.0</td>\n",
       "      <td>2.0</td>\n",
       "      <td>2.5</td>\n",
       "    </tr>\n",
       "    <tr>\n",
       "      <th>2</th>\n",
       "      <td>3.0</td>\n",
       "      <td>3.5</td>\n",
       "      <td>3.0</td>\n",
       "      <td>3.0</td>\n",
       "      <td>3.0</td>\n",
       "      <td>2.5</td>\n",
       "    </tr>\n",
       "    <tr>\n",
       "      <th>3</th>\n",
       "      <td>4.5</td>\n",
       "      <td>4.5</td>\n",
       "      <td>4.5</td>\n",
       "      <td>4.5</td>\n",
       "      <td>4.0</td>\n",
       "      <td>5.0</td>\n",
       "    </tr>\n",
       "    <tr>\n",
       "      <th>4</th>\n",
       "      <td>2.5</td>\n",
       "      <td>3.0</td>\n",
       "      <td>3.0</td>\n",
       "      <td>3.0</td>\n",
       "      <td>2.5</td>\n",
       "      <td>2.5</td>\n",
       "    </tr>\n",
       "  </tbody>\n",
       "</table>\n",
       "</div>"
      ],
      "text/plain": [
       "   cohesion  syntax  vocabulary  phraseology  grammar  conventions\n",
       "0       3.5     3.5         3.0          3.0      4.0          3.0\n",
       "1       2.5     2.5         3.0          2.0      2.0          2.5\n",
       "2       3.0     3.5         3.0          3.0      3.0          2.5\n",
       "3       4.5     4.5         4.5          4.5      4.0          5.0\n",
       "4       2.5     3.0         3.0          3.0      2.5          2.5"
      ]
     },
     "execution_count": 19,
     "metadata": {},
     "output_type": "execute_result"
    }
   ],
   "source": [
    "train_labels.head()"
   ]
  },
  {
   "cell_type": "code",
   "execution_count": 20,
   "id": "4ea46a4e",
   "metadata": {
    "execution": {
     "iopub.execute_input": "2022-10-10T15:18:20.931435Z",
     "iopub.status.busy": "2022-10-10T15:18:20.930990Z",
     "iopub.status.idle": "2022-10-10T15:18:20.942742Z",
     "shell.execute_reply": "2022-10-10T15:18:20.941477Z"
    },
    "papermill": {
     "duration": 0.026174,
     "end_time": "2022-10-10T15:18:20.945627",
     "exception": false,
     "start_time": "2022-10-10T15:18:20.919453",
     "status": "completed"
    },
    "tags": []
   },
   "outputs": [],
   "source": [
    "embedding_dim = 32\n",
    "\n",
    "def get_model():\n",
    "    inputs = tf.keras.Input(shape=(1), dtype=tf.string)\n",
    "    print(inputs)\n",
    "    x = vectorize_layer(inputs)\n",
    "    x = layers.Embedding(vocab_size, embedding_dim, name=\"Embedding\")(x)\n",
    "    x = layers.GlobalAveragePooling1D()(x)\n",
    "\n",
    "    cohesion = layers.Dense(10, activation=\"relu\")(x)\n",
    "    cohesion = layers.Dense(1, activation=\"relu\", name=\"cohesion\")(cohesion)\n",
    "\n",
    "    syntax = layers.Dense(10, activation=\"relu\")(x)\n",
    "    syntax = layers.Dense(1, activation=\"relu\", name=\"syntax\")(syntax)\n",
    "\n",
    "    vocabulary = layers.Dense(10, activation=\"relu\")(x)\n",
    "    vocabulary = layers.Dense(1, activation=\"relu\", name=\"vocabulary\")(vocabulary)\n",
    "\n",
    "    phraseology = layers.Dense(10, activation=\"relu\")(x)\n",
    "    phraseology = layers.Dense(1, activation=\"relu\", name=\"phraseology\")(phraseology)\n",
    "\n",
    "    grammar = layers.Dense(10, activation=\"relu\")(x)\n",
    "    grammar = layers.Dense(1, activation=\"relu\", name=\"grammar\")(grammar)\n",
    "\n",
    "    conventions = layers.Dense(10, activation=\"relu\")(x)\n",
    "    conventions = layers.Dense(1, activation=\"relu\", name=\"conventions\")(conventions)\n",
    "\n",
    "    return tf.keras.Model(inputs=inputs, outputs=[cohesion, syntax, vocabulary, phraseology, grammar, conventions])"
   ]
  },
  {
   "cell_type": "code",
   "execution_count": 21,
   "id": "db4c5b46",
   "metadata": {
    "execution": {
     "iopub.execute_input": "2022-10-10T15:18:20.966660Z",
     "iopub.status.busy": "2022-10-10T15:18:20.966233Z",
     "iopub.status.idle": "2022-10-10T15:18:21.123825Z",
     "shell.execute_reply": "2022-10-10T15:18:21.122086Z"
    },
    "papermill": {
     "duration": 0.171446,
     "end_time": "2022-10-10T15:18:21.126706",
     "exception": false,
     "start_time": "2022-10-10T15:18:20.955260",
     "status": "completed"
    },
    "tags": []
   },
   "outputs": [
    {
     "name": "stdout",
     "output_type": "stream",
     "text": [
      "KerasTensor(type_spec=TensorSpec(shape=(None, 1), dtype=tf.string, name='input_1'), name='input_1', description=\"created by layer 'input_1'\")\n"
     ]
    }
   ],
   "source": [
    "model = get_model()"
   ]
  },
  {
   "cell_type": "code",
   "execution_count": 22,
   "id": "69170582",
   "metadata": {
    "execution": {
     "iopub.execute_input": "2022-10-10T15:18:21.149208Z",
     "iopub.status.busy": "2022-10-10T15:18:21.148113Z",
     "iopub.status.idle": "2022-10-10T15:18:21.156594Z",
     "shell.execute_reply": "2022-10-10T15:18:21.155398Z"
    },
    "papermill": {
     "duration": 0.023931,
     "end_time": "2022-10-10T15:18:21.160189",
     "exception": false,
     "start_time": "2022-10-10T15:18:21.136258",
     "status": "completed"
    },
    "tags": []
   },
   "outputs": [
    {
     "name": "stdout",
     "output_type": "stream",
     "text": [
      "Model: \"model\"\n",
      "__________________________________________________________________________________________________\n",
      "Layer (type)                    Output Shape         Param #     Connected to                     \n",
      "==================================================================================================\n",
      "input_1 (InputLayer)            [(None, 1)]          0                                            \n",
      "__________________________________________________________________________________________________\n",
      "text_vectorization (TextVectori (None, 200)          0           input_1[0][0]                    \n",
      "__________________________________________________________________________________________________\n",
      "Embedding (Embedding)           (None, 200, 32)      320000      text_vectorization[0][0]         \n",
      "__________________________________________________________________________________________________\n",
      "global_average_pooling1d (Globa (None, 32)           0           Embedding[0][0]                  \n",
      "__________________________________________________________________________________________________\n",
      "dense (Dense)                   (None, 10)           330         global_average_pooling1d[0][0]   \n",
      "__________________________________________________________________________________________________\n",
      "dense_1 (Dense)                 (None, 10)           330         global_average_pooling1d[0][0]   \n",
      "__________________________________________________________________________________________________\n",
      "dense_2 (Dense)                 (None, 10)           330         global_average_pooling1d[0][0]   \n",
      "__________________________________________________________________________________________________\n",
      "dense_3 (Dense)                 (None, 10)           330         global_average_pooling1d[0][0]   \n",
      "__________________________________________________________________________________________________\n",
      "dense_4 (Dense)                 (None, 10)           330         global_average_pooling1d[0][0]   \n",
      "__________________________________________________________________________________________________\n",
      "dense_5 (Dense)                 (None, 10)           330         global_average_pooling1d[0][0]   \n",
      "__________________________________________________________________________________________________\n",
      "cohesion (Dense)                (None, 1)            11          dense[0][0]                      \n",
      "__________________________________________________________________________________________________\n",
      "syntax (Dense)                  (None, 1)            11          dense_1[0][0]                    \n",
      "__________________________________________________________________________________________________\n",
      "vocabulary (Dense)              (None, 1)            11          dense_2[0][0]                    \n",
      "__________________________________________________________________________________________________\n",
      "phraseology (Dense)             (None, 1)            11          dense_3[0][0]                    \n",
      "__________________________________________________________________________________________________\n",
      "grammar (Dense)                 (None, 1)            11          dense_4[0][0]                    \n",
      "__________________________________________________________________________________________________\n",
      "conventions (Dense)             (None, 1)            11          dense_5[0][0]                    \n",
      "==================================================================================================\n",
      "Total params: 322,046\n",
      "Trainable params: 322,046\n",
      "Non-trainable params: 0\n",
      "__________________________________________________________________________________________________\n"
     ]
    }
   ],
   "source": [
    "model.summary()"
   ]
  },
  {
   "cell_type": "code",
   "execution_count": 23,
   "id": "fa3ba78f",
   "metadata": {
    "execution": {
     "iopub.execute_input": "2022-10-10T15:18:21.181895Z",
     "iopub.status.busy": "2022-10-10T15:18:21.181469Z",
     "iopub.status.idle": "2022-10-10T15:18:22.520373Z",
     "shell.execute_reply": "2022-10-10T15:18:22.519189Z"
    },
    "papermill": {
     "duration": 1.353121,
     "end_time": "2022-10-10T15:18:22.523031",
     "exception": false,
     "start_time": "2022-10-10T15:18:21.169910",
     "status": "completed"
    },
    "tags": []
   },
   "outputs": [
    {
     "data": {
      "image/png": "[encoded data removed]",
      "text/plain": [
       "<IPython.core.display.Image object>"
      ]
     },
     "execution_count": 23,
     "metadata": {},
     "output_type": "execute_result"
    }
   ],
   "source": [
    "tf.keras.utils.plot_model(model)"
   ]
  },
  {
   "cell_type": "code",
   "execution_count": 24,
   "id": "79249635",
   "metadata": {
    "execution": {
     "iopub.execute_input": "2022-10-10T15:18:22.553662Z",
     "iopub.status.busy": "2022-10-10T15:18:22.553196Z",
     "iopub.status.idle": "2022-10-10T15:18:22.559285Z",
     "shell.execute_reply": "2022-10-10T15:18:22.558109Z"
    },
    "papermill": {
     "duration": 0.026008,
     "end_time": "2022-10-10T15:18:22.561788",
     "exception": false,
     "start_time": "2022-10-10T15:18:22.535780",
     "status": "completed"
    },
    "tags": []
   },
   "outputs": [],
   "source": [
    "def mean_squared_error(y_true, y_pred):\n",
    "    return tf.math.reduce_mean(tf.square(y_true-y_pred))"
   ]
  },
  {
   "cell_type": "code",
   "execution_count": 25,
   "id": "42dcd660",
   "metadata": {
    "execution": {
     "iopub.execute_input": "2022-10-10T15:18:22.587725Z",
     "iopub.status.busy": "2022-10-10T15:18:22.587025Z",
     "iopub.status.idle": "2022-10-10T15:18:22.604874Z",
     "shell.execute_reply": "2022-10-10T15:18:22.603505Z"
    },
    "papermill": {
     "duration": 0.034199,
     "end_time": "2022-10-10T15:18:22.608057",
     "exception": false,
     "start_time": "2022-10-10T15:18:22.573858",
     "status": "completed"
    },
    "tags": []
   },
   "outputs": [],
   "source": [
    "model.compile(\n",
    "    optimizer=tf.keras.optimizers.Adam(learning_rate=1e-3),\n",
    "    loss=mean_squared_error,\n",
    "    metrics=metrics\n",
    ")"
   ]
  },
  {
   "cell_type": "code",
   "execution_count": 26,
   "id": "df272960",
   "metadata": {
    "execution": {
     "iopub.execute_input": "2022-10-10T15:18:22.634291Z",
     "iopub.status.busy": "2022-10-10T15:18:22.633585Z",
     "iopub.status.idle": "2022-10-10T15:18:31.971630Z",
     "shell.execute_reply": "2022-10-10T15:18:31.969912Z"
    },
    "papermill": {
     "duration": 9.355504,
     "end_time": "2022-10-10T15:18:31.975182",
     "exception": false,
     "start_time": "2022-10-10T15:18:22.619678",
     "status": "completed"
    },
    "tags": []
   },
   "outputs": [
    {
     "name": "stdout",
     "output_type": "stream",
     "text": [
      "Epoch 1/5\n",
      "108/108 [==============================] - 4s 17ms/step - loss: 41.0627 - cohesion_loss: 6.0385 - syntax_loss: 5.9672 - vocabulary_loss: 7.0736 - phraseology_loss: 7.1014 - grammar_loss: 8.3438 - conventions_loss: 6.5382 - cohesion_root_mean_squared_error: 2.4573 - syntax_root_mean_squared_error: 2.4428 - vocabulary_root_mean_squared_error: 2.6596 - phraseology_root_mean_squared_error: 2.6648 - grammar_root_mean_squared_error: 2.8886 - conventions_root_mean_squared_error: 2.5570 - val_loss: 13.7354 - val_cohesion_loss: 0.9305 - val_syntax_loss: 0.9947 - val_vocabulary_loss: 2.3407 - val_phraseology_loss: 2.6568 - val_grammar_loss: 5.4074 - val_conventions_loss: 1.4053 - val_cohesion_root_mean_squared_error: 0.9646 - val_syntax_root_mean_squared_error: 0.9973 - val_vocabulary_root_mean_squared_error: 1.5299 - val_phraseology_root_mean_squared_error: 1.6300 - val_grammar_root_mean_squared_error: 2.3254 - val_conventions_root_mean_squared_error: 1.1855\n",
      "Epoch 2/5\n",
      "108/108 [==============================] - 1s 11ms/step - loss: 5.7385 - cohesion_loss: 0.4922 - syntax_loss: 0.4997 - vocabulary_loss: 0.7369 - phraseology_loss: 0.8556 - grammar_loss: 2.6120 - conventions_loss: 0.5421 - cohesion_root_mean_squared_error: 0.7015 - syntax_root_mean_squared_error: 0.7069 - vocabulary_root_mean_squared_error: 0.8584 - phraseology_root_mean_squared_error: 0.9250 - grammar_root_mean_squared_error: 1.6162 - conventions_root_mean_squared_error: 0.7363 - val_loss: 3.3047 - val_cohesion_loss: 0.4693 - val_syntax_loss: 0.4702 - val_vocabulary_loss: 0.4701 - val_phraseology_loss: 0.4703 - val_grammar_loss: 0.9555 - val_conventions_loss: 0.4693 - val_cohesion_root_mean_squared_error: 0.6851 - val_syntax_root_mean_squared_error: 0.6857 - val_vocabulary_root_mean_squared_error: 0.6856 - val_phraseology_root_mean_squared_error: 0.6858 - val_grammar_root_mean_squared_error: 0.9775 - val_conventions_root_mean_squared_error: 0.6851\n",
      "Epoch 3/5\n",
      "108/108 [==============================] - 1s 12ms/step - loss: 2.6396 - cohesion_loss: 0.4170 - syntax_loss: 0.4170 - vocabulary_loss: 0.4183 - phraseology_loss: 0.4191 - grammar_loss: 0.5503 - conventions_loss: 0.4178 - cohesion_root_mean_squared_error: 0.6458 - syntax_root_mean_squared_error: 0.6458 - vocabulary_root_mean_squared_error: 0.6468 - phraseology_root_mean_squared_error: 0.6474 - grammar_root_mean_squared_error: 0.7418 - conventions_root_mean_squared_error: 0.6464 - val_loss: 2.6713 - val_cohesion_loss: 0.4434 - val_syntax_loss: 0.4432 - val_vocabulary_loss: 0.4438 - val_phraseology_loss: 0.4442 - val_grammar_loss: 0.4528 - val_conventions_loss: 0.4439 - val_cohesion_root_mean_squared_error: 0.6659 - val_syntax_root_mean_squared_error: 0.6657 - val_vocabulary_root_mean_squared_error: 0.6662 - val_phraseology_root_mean_squared_error: 0.6665 - val_grammar_root_mean_squared_error: 0.6729 - val_conventions_root_mean_squared_error: 0.6663\n",
      "Epoch 4/5\n",
      "108/108 [==============================] - 1s 11ms/step - loss: 2.3252 - cohesion_loss: 0.3858 - syntax_loss: 0.3850 - vocabulary_loss: 0.3876 - phraseology_loss: 0.3881 - grammar_loss: 0.3914 - conventions_loss: 0.3873 - cohesion_root_mean_squared_error: 0.6212 - syntax_root_mean_squared_error: 0.6205 - vocabulary_root_mean_squared_error: 0.6226 - phraseology_root_mean_squared_error: 0.6230 - grammar_root_mean_squared_error: 0.6256 - conventions_root_mean_squared_error: 0.6223 - val_loss: 2.5155 - val_cohesion_loss: 0.4184 - val_syntax_loss: 0.4176 - val_vocabulary_loss: 0.4195 - val_phraseology_loss: 0.4196 - val_grammar_loss: 0.4209 - val_conventions_loss: 0.4195 - val_cohesion_root_mean_squared_error: 0.6469 - val_syntax_root_mean_squared_error: 0.6462 - val_vocabulary_root_mean_squared_error: 0.6477 - val_phraseology_root_mean_squared_error: 0.6478 - val_grammar_root_mean_squared_error: 0.6487 - val_conventions_root_mean_squared_error: 0.6477\n",
      "Epoch 5/5\n",
      "108/108 [==============================] - 1s 11ms/step - loss: 2.1585 - cohesion_loss: 0.3579 - syntax_loss: 0.3565 - vocabulary_loss: 0.3603 - phraseology_loss: 0.3606 - grammar_loss: 0.3632 - conventions_loss: 0.3599 - cohesion_root_mean_squared_error: 0.5983 - syntax_root_mean_squared_error: 0.5971 - vocabulary_root_mean_squared_error: 0.6003 - phraseology_root_mean_squared_error: 0.6005 - grammar_root_mean_squared_error: 0.6027 - conventions_root_mean_squared_error: 0.5999 - val_loss: 2.3846 - val_cohesion_loss: 0.3963 - val_syntax_loss: 0.3951 - val_vocabulary_loss: 0.3979 - val_phraseology_loss: 0.3978 - val_grammar_loss: 0.3997 - val_conventions_loss: 0.3978 - val_cohesion_root_mean_squared_error: 0.6295 - val_syntax_root_mean_squared_error: 0.6286 - val_vocabulary_root_mean_squared_error: 0.6308 - val_phraseology_root_mean_squared_error: 0.6307 - val_grammar_root_mean_squared_error: 0.6322 - val_conventions_root_mean_squared_error: 0.6307\n"
     ]
    }
   ],
   "source": [
    "EPOCHS = 5\n",
    "\n",
    "history = model.fit(\n",
    "    train_ds,\n",
    "    epochs=EPOCHS,\n",
    "    validation_data=val_ds,\n",
    ")"
   ]
  },
  {
   "cell_type": "code",
   "execution_count": 27,
   "id": "b17b9e2d",
   "metadata": {
    "execution": {
     "iopub.execute_input": "2022-10-10T15:18:32.015389Z",
     "iopub.status.busy": "2022-10-10T15:18:32.014102Z",
     "iopub.status.idle": "2022-10-10T15:18:32.022617Z",
     "shell.execute_reply": "2022-10-10T15:18:32.020873Z"
    },
    "papermill": {
     "duration": 0.030357,
     "end_time": "2022-10-10T15:18:32.025068",
     "exception": false,
     "start_time": "2022-10-10T15:18:31.994711",
     "status": "completed"
    },
    "tags": []
   },
   "outputs": [
    {
     "name": "stdout",
     "output_type": "stream",
     "text": [
      "dict_keys(['loss', 'cohesion_loss', 'syntax_loss', 'vocabulary_loss', 'phraseology_loss', 'grammar_loss', 'conventions_loss', 'cohesion_root_mean_squared_error', 'syntax_root_mean_squared_error', 'vocabulary_root_mean_squared_error', 'phraseology_root_mean_squared_error', 'grammar_root_mean_squared_error', 'conventions_root_mean_squared_error', 'val_loss', 'val_cohesion_loss', 'val_syntax_loss', 'val_vocabulary_loss', 'val_phraseology_loss', 'val_grammar_loss', 'val_conventions_loss', 'val_cohesion_root_mean_squared_error', 'val_syntax_root_mean_squared_error', 'val_vocabulary_root_mean_squared_error', 'val_phraseology_root_mean_squared_error', 'val_grammar_root_mean_squared_error', 'val_conventions_root_mean_squared_error'])\n",
      "3.5987518429756165\n"
     ]
    }
   ],
   "source": [
    "print(history.history.keys())\n",
    "print(sum([history.history[\"cohesion_root_mean_squared_error\"][-1], \n",
    "           history.history[\"syntax_root_mean_squared_error\"][-1], \n",
    "           history.history[\"vocabulary_root_mean_squared_error\"][-1],\n",
    "           history.history[\"phraseology_root_mean_squared_error\"][-1], \n",
    "           history.history[\"grammar_root_mean_squared_error\"][-1],\n",
    "           history.history[\"conventions_root_mean_squared_error\"][-1]\n",
    "          ]))"
   ]
  },
  {
   "cell_type": "code",
   "execution_count": 28,
   "id": "21b33ca7",
   "metadata": {
    "execution": {
     "iopub.execute_input": "2022-10-10T15:18:32.063819Z",
     "iopub.status.busy": "2022-10-10T15:18:32.063065Z",
     "iopub.status.idle": "2022-10-10T15:18:32.080371Z",
     "shell.execute_reply": "2022-10-10T15:18:32.078980Z"
    },
    "papermill": {
     "duration": 0.039133,
     "end_time": "2022-10-10T15:18:32.082683",
     "exception": false,
     "start_time": "2022-10-10T15:18:32.043550",
     "status": "completed"
    },
    "tags": []
   },
   "outputs": [
    {
     "data": {
      "text/html": [
       "<div>\n",
       "<style scoped>\n",
       "    .dataframe tbody tr th:only-of-type {\n",
       "        vertical-align: middle;\n",
       "    }\n",
       "\n",
       "    .dataframe tbody tr th {\n",
       "        vertical-align: top;\n",
       "    }\n",
       "\n",
       "    .dataframe thead th {\n",
       "        text-align: right;\n",
       "    }\n",
       "</style>\n",
       "<table border=\"1\" class=\"dataframe\">\n",
       "  <thead>\n",
       "    <tr style=\"text-align: right;\">\n",
       "      <th></th>\n",
       "      <th>cohesion</th>\n",
       "      <th>syntax</th>\n",
       "      <th>vocabulary</th>\n",
       "      <th>phraseology</th>\n",
       "      <th>grammar</th>\n",
       "      <th>conventions</th>\n",
       "    </tr>\n",
       "  </thead>\n",
       "  <tbody>\n",
       "    <tr>\n",
       "      <th>0</th>\n",
       "      <td>3.5</td>\n",
       "      <td>3.5</td>\n",
       "      <td>3.0</td>\n",
       "      <td>3.0</td>\n",
       "      <td>4.0</td>\n",
       "      <td>3.0</td>\n",
       "    </tr>\n",
       "    <tr>\n",
       "      <th>1</th>\n",
       "      <td>2.5</td>\n",
       "      <td>2.5</td>\n",
       "      <td>3.0</td>\n",
       "      <td>2.0</td>\n",
       "      <td>2.0</td>\n",
       "      <td>2.5</td>\n",
       "    </tr>\n",
       "    <tr>\n",
       "      <th>2</th>\n",
       "      <td>3.0</td>\n",
       "      <td>3.5</td>\n",
       "      <td>3.0</td>\n",
       "      <td>3.0</td>\n",
       "      <td>3.0</td>\n",
       "      <td>2.5</td>\n",
       "    </tr>\n",
       "    <tr>\n",
       "      <th>3</th>\n",
       "      <td>4.5</td>\n",
       "      <td>4.5</td>\n",
       "      <td>4.5</td>\n",
       "      <td>4.5</td>\n",
       "      <td>4.0</td>\n",
       "      <td>5.0</td>\n",
       "    </tr>\n",
       "    <tr>\n",
       "      <th>4</th>\n",
       "      <td>2.5</td>\n",
       "      <td>3.0</td>\n",
       "      <td>3.0</td>\n",
       "      <td>3.0</td>\n",
       "      <td>2.5</td>\n",
       "      <td>2.5</td>\n",
       "    </tr>\n",
       "  </tbody>\n",
       "</table>\n",
       "</div>"
      ],
      "text/plain": [
       "   cohesion  syntax  vocabulary  phraseology  grammar  conventions\n",
       "0       3.5     3.5         3.0          3.0      4.0          3.0\n",
       "1       2.5     2.5         3.0          2.0      2.0          2.5\n",
       "2       3.0     3.5         3.0          3.0      3.0          2.5\n",
       "3       4.5     4.5         4.5          4.5      4.0          5.0\n",
       "4       2.5     3.0         3.0          3.0      2.5          2.5"
      ]
     },
     "execution_count": 28,
     "metadata": {},
     "output_type": "execute_result"
    }
   ],
   "source": [
    "train_labels.head()"
   ]
  },
  {
   "cell_type": "code",
   "execution_count": 29,
   "id": "e183fc8c",
   "metadata": {
    "execution": {
     "iopub.execute_input": "2022-10-10T15:18:32.122357Z",
     "iopub.status.busy": "2022-10-10T15:18:32.121709Z",
     "iopub.status.idle": "2022-10-10T15:18:32.966199Z",
     "shell.execute_reply": "2022-10-10T15:18:32.965266Z"
    },
    "papermill": {
     "duration": 0.867531,
     "end_time": "2022-10-10T15:18:32.969106",
     "exception": false,
     "start_time": "2022-10-10T15:18:32.101575",
     "status": "completed"
    },
    "tags": []
   },
   "outputs": [
    {
     "data": {
      "image/png": "[encoded data removed]",
      "text/plain": [
       "<Figure size 1080x1080 with 4 Axes>"
      ]
     },
     "metadata": {
      "needs_background": "light"
     },
     "output_type": "display_data"
    }
   ],
   "source": [
    "cohesion = history.history[\"cohesion_root_mean_squared_error\"]\n",
    "syntax = history.history[\"syntax_root_mean_squared_error\"]\n",
    "vocabulary = history.history[\"vocabulary_root_mean_squared_error\"]\n",
    "phraseology = history.history[\"phraseology_root_mean_squared_error\"]\n",
    "grammar = history.history[\"grammar_root_mean_squared_error\"]\n",
    "conventions = history.history[\"conventions_root_mean_squared_error\"]\n",
    "\n",
    "val_cohesion = history.history[\"val_cohesion_root_mean_squared_error\"]\n",
    "val_syntax = history.history[\"val_syntax_root_mean_squared_error\"]\n",
    "val_vocabulary = history.history[\"val_vocabulary_root_mean_squared_error\"]\n",
    "val_phraseology = history.history[\"val_phraseology_root_mean_squared_error\"]\n",
    "val_grammar = history.history[\"val_grammar_root_mean_squared_error\"]\n",
    "val_conventions = history.history[\"val_conventions_root_mean_squared_error\"]\n",
    "\n",
    "cohesion_loss = history.history[\"cohesion_loss\"]\n",
    "syntax_loss = history.history[\"syntax_loss\"]\n",
    "vocabulary_loss = history.history[\"vocabulary_loss\"]\n",
    "phraseology_loss = history.history[\"phraseology_loss\"]\n",
    "grammar_loss = history.history[\"grammar_loss\"]\n",
    "conventions_loss = history.history[\"conventions_loss\"]\n",
    "\n",
    "val_cohesion_loss = history.history[\"val_cohesion_loss\"]\n",
    "val_syntax_loss = history.history[\"val_syntax_loss\"]\n",
    "val_vocabulary_loss = history.history[\"val_vocabulary_loss\"]\n",
    "val_phraseology_loss = history.history[\"val_phraseology_loss\"]\n",
    "val_grammar_loss = history.history[\"val_grammar_loss\"]\n",
    "val_conventions_loss = history.history[\"val_conventions_loss\"]\n",
    "\n",
    "import matplotlib.pyplot as plt\n",
    "\n",
    "plt.figure(figsize=(15,15))\n",
    "\n",
    "plt.subplot(2,2,1)\n",
    "plt.plot(cohesion, label=\"MSE Cohesion\")\n",
    "plt.plot(syntax, label=\"MSE Syntax\")\n",
    "plt.plot(vocabulary, label=\"MSE Vocabulary\")\n",
    "plt.plot(phraseology, label=\"MSE Phraseology\")\n",
    "plt.plot(grammar, label=\"MSE Grammar\")\n",
    "plt.plot(conventions, label=\"MSE Conventions\")\n",
    "plt.title(\"MSE\")\n",
    "plt.legend(loc=\"upper left\")\n",
    "\n",
    "plt.subplot(2,2,2)\n",
    "plt.plot(val_cohesion, label=\"MSE Cohesion\")\n",
    "plt.plot(val_syntax, label=\"MSE Syntax\")\n",
    "plt.plot(val_vocabulary, label=\"MSE Vocabulary\")\n",
    "plt.plot(val_phraseology, label=\"MSE Phraseology\")\n",
    "plt.plot(val_grammar, label=\"MSE Grammar\")\n",
    "plt.plot(val_conventions, label=\"MSE Conventions\")\n",
    "plt.title(\"Validation MSE\")\n",
    "plt.legend(loc=\"upper left\")\n",
    "\n",
    "plt.subplot(2,2,3)\n",
    "plt.plot(cohesion_loss, label=\"Loss Cohesion\")\n",
    "plt.plot(syntax_loss, label=\"Loss Syntax\")\n",
    "plt.plot(vocabulary_loss, label=\"Loss Vocabulary\")\n",
    "plt.plot(phraseology_loss, label=\"Loss Phraseology\")\n",
    "plt.plot(grammar_loss, label=\"Loss Grammar\")\n",
    "plt.plot(conventions_loss, label=\"Loss Conventions\")\n",
    "plt.title(\"Loss\")\n",
    "plt.legend(loc=\"upper left\")\n",
    "\n",
    "plt.subplot(2,2,4)\n",
    "plt.plot(val_cohesion_loss, label=\"Loss Cohesion\")\n",
    "plt.plot(val_syntax_loss, label=\"Loss Syntax\")\n",
    "plt.plot(val_vocabulary_loss, label=\"Loss Vocabulary\")\n",
    "plt.plot(val_phraseology_loss, label=\"Loss Phraseology\")\n",
    "plt.plot(val_grammar_loss, label=\"Loss Grammar\")\n",
    "plt.plot(val_conventions_loss, label=\"Loss Conventions\")\n",
    "plt.title(\"Validation Loss\")\n",
    "plt.legend(loc=\"upper left\")\n",
    "\n",
    "plt.show()"
   ]
  },
  {
   "cell_type": "code",
   "execution_count": 30,
   "id": "e9ce8652",
   "metadata": {
    "execution": {
     "iopub.execute_input": "2022-10-10T15:18:33.014273Z",
     "iopub.status.busy": "2022-10-10T15:18:33.013193Z",
     "iopub.status.idle": "2022-10-10T15:18:33.022128Z",
     "shell.execute_reply": "2022-10-10T15:18:33.020900Z"
    },
    "papermill": {
     "duration": 0.033454,
     "end_time": "2022-10-10T15:18:33.024464",
     "exception": false,
     "start_time": "2022-10-10T15:18:32.991010",
     "status": "completed"
    },
    "tags": []
   },
   "outputs": [
    {
     "name": "stdout",
     "output_type": "stream",
     "text": [
      "12\n",
      "\n",
      "tf.Tensor(b\"The school board is planning to add one and a half hour to school each day. I think they should add one and a half hour to school each day because than class would be more longer, we would have to do more homework, and some students have things to do after school everyday.\\n\\nI disagree that the school board should add one and a half hour to school each day because class would be more longer. If schools board add one and a half hour to school each day every class would be more longer. For example my civics class is two hours if they add one and a half hour than my civics class would be two and a half hour. If class was longer teachers would have to work more. They would have to work more because than they have to make more projects and grade more papers that each student turns in. Students would have to work harder then what they usually do because they would get more work because the class is longer.\\n\\nSecondly I disagree because if school board adds one and a half hour to school each day then we would get more homework. students would have to do more homework since class is longer that would get more projects and some students don't get to finish their work in class so they have to do it for homework. They would get in trouble if they don't finish their homework. some students don't get to finish their homework because they have to do more work for another class.\\n\\nLastly, I disagree that the school board should add one and a half hour to school each day because when students get out of class they have to do things or go somewhere. Students have to take care of their siblings. Some students when they get out school have to take care of their brothers and sisters because their parents have to go somewhere or they have to do some work. Some kids practice sports in the afternoon for example soccer, basketball , etc. When I get out of school I have to go to soccer practice at 4:30 pm ,so before going to practice I have to do my homework and sometimes I don't get to finish then until I come back from practice. Sometimes I do get in trouble with my teachers because I didn't finish my homework. Some students have to go visit their family because maybe that are going to a party that they are making or they are sick and you have to go see how they are. Sometimes my mom waits for me until I get out of school to go visit our family. Some of then have to clean their room, wash the dishes, and take the trash out.\\n\\nI still think that they shouldn't add one and a half hour to school each day because each would longer, get more homework, and do after school activities. Do you agree or disagree with my reasons?\", shape=(), dtype=string)\n",
      "\n",
      "tf.Tensor([3.5 3.5 3.  3.  3.  3. ], shape=(6,), dtype=float64)\n"
     ]
    }
   ],
   "source": [
    "import random\n",
    "\n",
    "i = int(random.randint(0, 32))\n",
    "print(i)\n",
    "print(\"\")\n",
    "print(text_batch[i])\n",
    "print(\"\")\n",
    "print(label_batch[i])"
   ]
  },
  {
   "cell_type": "code",
   "execution_count": 31,
   "id": "08f62894",
   "metadata": {
    "execution": {
     "iopub.execute_input": "2022-10-10T15:18:33.068749Z",
     "iopub.status.busy": "2022-10-10T15:18:33.067988Z",
     "iopub.status.idle": "2022-10-10T15:18:33.386085Z",
     "shell.execute_reply": "2022-10-10T15:18:33.385152Z"
    },
    "papermill": {
     "duration": 0.343101,
     "end_time": "2022-10-10T15:18:33.388496",
     "exception": false,
     "start_time": "2022-10-10T15:18:33.045395",
     "status": "completed"
    },
    "tags": []
   },
   "outputs": [
    {
     "data": {
      "text/plain": [
       "[array([[3.1186094]], dtype=float32),\n",
       " array([[3.1330633]], dtype=float32),\n",
       " array([[3.1234615]], dtype=float32),\n",
       " array([[3.1092625]], dtype=float32),\n",
       " array([[3.1339204]], dtype=float32),\n",
       " array([[3.1180155]], dtype=float32)]"
      ]
     },
     "execution_count": 31,
     "metadata": {},
     "output_type": "execute_result"
    }
   ],
   "source": [
    "model.predict(tf.expand_dims(text_batch[i], 0))"
   ]
  }
 ],
 "metadata": {
  "kernelspec": {
   "display_name": "Python 3",
   "language": "python",
   "name": "python3"
  },
  "language_info": {
   "codemirror_mode": {
    "name": "ipython",
    "version": 3
   },
   "file_extension": ".py",
   "mimetype": "text/x-python",
   "name": "python",
   "nbconvert_exporter": "python",
   "pygments_lexer": "ipython3",
   "version": "3.7.12"
  },
  "papermill": {
   "default_parameters": {},
   "duration": 35.301804,
   "end_time": "2022-10-10T15:18:36.271156",
   "environment_variables": {},
   "exception": null,
   "input_path": "__notebook__.ipynb",
   "output_path": "__notebook__.ipynb",
   "parameters": {},
   "start_time": "2022-10-10T15:18:00.969352",
   "version": "2.3.4"
  }
 },
 "nbformat": 4,
 "nbformat_minor": 5
}
